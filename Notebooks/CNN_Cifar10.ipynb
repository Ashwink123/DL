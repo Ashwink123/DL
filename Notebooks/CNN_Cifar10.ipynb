{
  "nbformat": 4,
  "nbformat_minor": 0,
  "metadata": {
    "colab": {
      "provenance": []
    },
    "kernelspec": {
      "name": "python3",
      "display_name": "Python 3"
    },
    "language_info": {
      "name": "python"
    },
    "accelerator": "GPU"
  },
  "cells": [
    {
      "cell_type": "code",
      "execution_count": null,
      "metadata": {
        "id": "HWWU2xdepfod"
      },
      "outputs": [],
      "source": [
        "### Key Import (Changes with updated to Tensorflow)\n",
        "import tensorflow as tf\n",
        "from tensorflow.keras.datasets import cifar10\n",
        "from tensorflow.keras.preprocessing.image import ImageDataGenerator\n",
        "from tensorflow.keras import Sequential\n",
        "from tensorflow.keras.layers import Dense, Dropout, Activation, Flatten, Conv2D, MaxPooling2D, BatchNormalization\n",
        "import numpy as np\n",
        "import matplotlib.pyplot as plt\n",
        "import plotly.express as px\n",
        "import seaborn as sns"
      ]
    },
    {
      "cell_type": "code",
      "source": [
        "# batch, classes, epochs\n",
        "batch_size = 32\n",
        "num_classes = 10\n",
        "epochs = 50"
      ],
      "metadata": {
        "id": "tolnqa8Lp3ur"
      },
      "execution_count": null,
      "outputs": []
    },
    {
      "cell_type": "code",
      "source": [
        "(x_train,y_train),(x_test,y_test) = cifar10.load_data()\n",
        "print(x_train.shape)"
      ],
      "metadata": {
        "colab": {
          "base_uri": "https://localhost:8080/"
        },
        "id": "O9VHetfHrcZa",
        "outputId": "24217c28-47ff-4346-bb3d-da07d6a02cf1"
      },
      "execution_count": null,
      "outputs": [
        {
          "output_type": "stream",
          "name": "stdout",
          "text": [
            "Downloading data from https://www.cs.toronto.edu/~kriz/cifar-10-python.tar.gz\n",
            "170498071/170498071 [==============================] - 13s 0us/step\n",
            "(50000, 32, 32, 3)\n"
          ]
        }
      ]
    },
    {
      "cell_type": "code",
      "source": [
        "print(y_train.shape)"
      ],
      "metadata": {
        "colab": {
          "base_uri": "https://localhost:8080/"
        },
        "id": "qoojBotqs8jM",
        "outputId": "1c54d742-5b52-4cbb-b788-880ff2ab597f"
      },
      "execution_count": null,
      "outputs": [
        {
          "output_type": "stream",
          "name": "stdout",
          "text": [
            "(50000, 1)\n"
          ]
        }
      ]
    },
    {
      "cell_type": "code",
      "source": [
        "print(x_test.shape)"
      ],
      "metadata": {
        "colab": {
          "base_uri": "https://localhost:8080/"
        },
        "id": "TfGdjBShs5JO",
        "outputId": "b2ba148c-48c4-405e-93de-058b86c47382"
      },
      "execution_count": null,
      "outputs": [
        {
          "output_type": "stream",
          "name": "stdout",
          "text": [
            "(10000, 32, 32, 3)\n"
          ]
        }
      ]
    },
    {
      "cell_type": "code",
      "source": [
        "print(y_test.shape)"
      ],
      "metadata": {
        "colab": {
          "base_uri": "https://localhost:8080/"
        },
        "id": "mKV05nwBtAI-",
        "outputId": "1dd6eda7-7571-417a-fa60-87c39b6b81b5"
      },
      "execution_count": null,
      "outputs": [
        {
          "output_type": "stream",
          "name": "stdout",
          "text": [
            "(10000, 1)\n"
          ]
        }
      ]
    },
    {
      "cell_type": "code",
      "source": [
        "print(y_train)"
      ],
      "metadata": {
        "colab": {
          "base_uri": "https://localhost:8080/"
        },
        "id": "lcwBqHCztMdD",
        "outputId": "5838c6ca-bdef-472d-92d5-c9d810d78fda"
      },
      "execution_count": null,
      "outputs": [
        {
          "output_type": "stream",
          "name": "stdout",
          "text": [
            "[[6]\n",
            " [9]\n",
            " [9]\n",
            " ...\n",
            " [9]\n",
            " [1]\n",
            " [1]]\n"
          ]
        }
      ]
    },
    {
      "cell_type": "code",
      "source": [
        "class_names = ['airplane','automobile','bird','cat','deer',\n",
        "               'dog','frog','horse','ship','truck']\n",
        "fig, axes = plt.subplots(ncols=7, nrows=3, figsize=(17, 8))\n",
        "index = 0\n",
        "for i in range(3):\n",
        "    for j in range(7):\n",
        "        axes[i,j].set_title(class_names[y_train[index][0]])\n",
        "        axes[i,j].imshow(x_train[index])\n",
        "        axes[i,j].get_xaxis().set_visible(False)\n",
        "        axes[i,j].get_yaxis().set_visible(False)\n",
        "        index += 1\n",
        "plt.show()"
      ],
      "metadata": {
        "colab": {
          "base_uri": "https://localhost:8080/",
          "height": 610
        },
        "id": "lokmbCkdtTOC",
        "outputId": "b67b01f5-e96f-484a-8eb3-5a486d408963"
      },
      "execution_count": null,
      "outputs": [
        {
          "output_type": "display_data",
          "data": {
            "text/plain": [
              "<Figure size 1700x800 with 21 Axes>"
            ],
            "image/png": "[encoded data removed]"
          },
          "metadata": {}
        }
      ]
    },
    {
      "cell_type": "code",
      "source": [
        "y_train_one_hot = tf.keras.utils.to_categorical(y_train,num_classes=num_classes)  ### One Hot Encoding\n",
        "y_test_one_hot = tf.keras.utils.to_categorical(y_test,num_classes=num_classes)     ### One Hot Encoding"
      ],
      "metadata": {
        "id": "4lo0x1iiuZwX"
      },
      "execution_count": null,
      "outputs": []
    },
    {
      "cell_type": "code",
      "source": [
        "print(y_train[1])"
      ],
      "metadata": {
        "colab": {
          "base_uri": "https://localhost:8080/"
        },
        "id": "QgxP1ZLiwbG8",
        "outputId": "159d2a40-4dd8-43ab-cdda-84e6cf91dead"
      },
      "execution_count": null,
      "outputs": [
        {
          "output_type": "stream",
          "name": "stdout",
          "text": [
            "[9]\n"
          ]
        }
      ]
    },
    {
      "cell_type": "code",
      "source": [
        "print(y_train_one_hot[1])"
      ],
      "metadata": {
        "colab": {
          "base_uri": "https://localhost:8080/"
        },
        "id": "06cyWjxkv7_S",
        "outputId": "68ff8af2-a20f-4513-d541-9e909dd35978"
      },
      "execution_count": null,
      "outputs": [
        {
          "output_type": "stream",
          "name": "stdout",
          "text": [
            "[0. 0. 0. 0. 0. 0. 0. 0. 0. 1.]\n"
          ]
        }
      ]
    },
    {
      "cell_type": "code",
      "source": [
        "model = Sequential()"
      ],
      "metadata": {
        "id": "yqcUQ2aYxe21"
      },
      "execution_count": null,
      "outputs": []
    },
    {
      "cell_type": "code",
      "source": [
        "x_train.shape[1:]"
      ],
      "metadata": {
        "colab": {
          "base_uri": "https://localhost:8080/"
        },
        "id": "WHzEMryLyq06",
        "outputId": "be533668-b106-4b04-c32a-f42bc62ac344"
      },
      "execution_count": null,
      "outputs": [
        {
          "output_type": "execute_result",
          "data": {
            "text/plain": [
              "(32, 32, 3)"
            ]
          },
          "metadata": {},
          "execution_count": 13
        }
      ]
    },
    {
      "cell_type": "markdown",
      "source": [
        "Experiment - I (Using dropouts after convolution layer and Fully Connected layers, With no Batch Normalization):"
      ],
      "metadata": {
        "id": "I46t5qYF6Hsr"
      }
    },
    {
      "cell_type": "code",
      "source": [
        "model.add(Conv2D(32,(3,3), padding='same',input_shape=x_train.shape[1:]))\n",
        "model.add(Activation('LeakyReLU'))\n",
        "model.add(Conv2D(32, (3, 3)))\n",
        "model.add(Activation('LeakyReLU'))\n",
        "model.add(MaxPooling2D(pool_size=(2, 2)))\n",
        "model.add(Dropout(0.25))\n",
        "\n",
        "model.add(Conv2D(64, (3, 3), padding='same'))   ### Padding = Same results in the same output image as the input image with a stride of 1.\n",
        "model.add(Activation('LeakyReLU'))\n",
        "model.add(Conv2D(64, (3, 3)))\n",
        "model.add(Activation('LeakyReLU'))\n",
        "model.add(MaxPooling2D(pool_size=(2, 2)))\n",
        "model.add(Dropout(0.25))\n",
        "\n",
        "model.add(Flatten())\n",
        "model.add(Dense(512))                          ### Dense Layer of 512 Neurons.\n",
        "model.add(Activation('LeakyReLU'))\n",
        "model.add(Dropout(0.5))                        ### Since its a fully connect layer the dropout is high, meaning we can expect half of the neuron to be redundant.\n",
        "model.add(Dense(num_classes))\n",
        "model.add(Activation('softmax'))              ### Softmax Layer Since we have 10 classes."
      ],
      "metadata": {
        "id": "ovoCDN6tyFKU"
      },
      "execution_count": null,
      "outputs": []
    },
    {
      "cell_type": "code",
      "source": [
        "# summary\n",
        "model.summary()"
      ],
      "metadata": {
        "colab": {
          "base_uri": "https://localhost:8080/"
        },
        "id": "oaMSwjSG1JWr",
        "outputId": "7a155a27-d76f-467f-bc90-05f5bfd47deb"
      },
      "execution_count": null,
      "outputs": [
        {
          "output_type": "stream",
          "name": "stdout",
          "text": [
            "Model: \"sequential\"\n",
            "_________________________________________________________________\n",
            " Layer (type)                Output Shape              Param #   \n",
            "=================================================================\n",
            " conv2d (Conv2D)             (None, 32, 32, 32)        896       \n",
            "                                                                 \n",
            " activation (Activation)     (None, 32, 32, 32)        0         \n",
            "                                                                 \n",
            " conv2d_1 (Conv2D)           (None, 30, 30, 32)        9248      \n",
            "                                                                 \n",
            " activation_1 (Activation)   (None, 30, 30, 32)        0         \n",
            "                                                                 \n",
            " max_pooling2d (MaxPooling2D  (None, 15, 15, 32)       0         \n",
            " )                                                               \n",
            "                                                                 \n",
            " dropout (Dropout)           (None, 15, 15, 32)        0         \n",
            "                                                                 \n",
            " conv2d_2 (Conv2D)           (None, 15, 15, 64)        18496     \n",
            "                                                                 \n",
            " activation_2 (Activation)   (None, 15, 15, 64)        0         \n",
            "                                                                 \n",
            " conv2d_3 (Conv2D)           (None, 13, 13, 64)        36928     \n",
            "                                                                 \n",
            " activation_3 (Activation)   (None, 13, 13, 64)        0         \n",
            "                                                                 \n",
            " max_pooling2d_1 (MaxPooling  (None, 6, 6, 64)         0         \n",
            " 2D)                                                             \n",
            "                                                                 \n",
            " dropout_1 (Dropout)         (None, 6, 6, 64)          0         \n",
            "                                                                 \n",
            " flatten (Flatten)           (None, 2304)              0         \n",
            "                                                                 \n",
            " dense (Dense)               (None, 512)               1180160   \n",
            "                                                                 \n",
            " activation_4 (Activation)   (None, 512)               0         \n",
            "                                                                 \n",
            " dropout_2 (Dropout)         (None, 512)               0         \n",
            "                                                                 \n",
            " dense_1 (Dense)             (None, 10)                5130      \n",
            "                                                                 \n",
            " activation_5 (Activation)   (None, 10)                0         \n",
            "                                                                 \n",
            "=================================================================\n",
            "Total params: 1,250,858\n",
            "Trainable params: 1,250,858\n",
            "Non-trainable params: 0\n",
            "_________________________________________________________________\n"
          ]
        }
      ]
    },
    {
      "cell_type": "code",
      "source": [
        "# compile the model\n",
        "model.compile(loss='categorical_crossentropy',\n",
        "              optimizer='adam',\n",
        "              metrics=['accuracy'])\n",
        "\n",
        "# convert to float, normalise the data\n",
        "x_train = x_train.astype('float32')\n",
        "x_test = x_test.astype('float32')\n",
        "x_train /= 255\n",
        "x_test /= 255"
      ],
      "metadata": {
        "id": "MPkg2IRO2Dlk"
      },
      "execution_count": null,
      "outputs": []
    },
    {
      "cell_type": "code",
      "source": [
        "# train\n",
        "model.fit(x_train, y_train_one_hot,\n",
        "          batch_size=batch_size,epochs=epochs,\n",
        "          validation_data=(x_test, y_test_one_hot),\n",
        "          shuffle=True)"
      ],
      "metadata": {
        "colab": {
          "base_uri": "https://localhost:8080/"
        },
        "id": "dHBSzgv32HdH",
        "outputId": "665ae5bc-d8f8-46a6-904b-500fc9b380ec"
      },
      "execution_count": null,
      "outputs": [
        {
          "output_type": "stream",
          "name": "stdout",
          "text": [
            "Epoch 1/50\n",
            "1563/1563 [==============================] - 21s 7ms/step - loss: 1.3430 - accuracy: 0.5222 - val_loss: 0.9914 - val_accuracy: 0.6592\n",
            "Epoch 2/50\n",
            "1563/1563 [==============================] - 9s 6ms/step - loss: 0.9931 - accuracy: 0.6543 - val_loss: 0.8422 - val_accuracy: 0.7045\n",
            "Epoch 3/50\n",
            "1563/1563 [==============================] - 9s 6ms/step - loss: 0.9056 - accuracy: 0.6830 - val_loss: 0.8000 - val_accuracy: 0.7214\n",
            "Epoch 4/50\n",
            "1563/1563 [==============================] - 10s 6ms/step - loss: 0.8499 - accuracy: 0.7040 - val_loss: 0.7835 - val_accuracy: 0.7282\n",
            "Epoch 5/50\n",
            "1563/1563 [==============================] - 9s 6ms/step - loss: 0.8176 - accuracy: 0.7163 - val_loss: 0.7349 - val_accuracy: 0.7441\n",
            "Epoch 6/50\n",
            "1563/1563 [==============================] - 10s 6ms/step - loss: 0.7856 - accuracy: 0.7293 - val_loss: 0.7284 - val_accuracy: 0.7478\n",
            "Epoch 7/50\n",
            "1563/1563 [==============================] - 9s 6ms/step - loss: 0.7695 - accuracy: 0.7319 - val_loss: 0.7735 - val_accuracy: 0.7352\n",
            "Epoch 8/50\n",
            "1563/1563 [==============================] - 9s 6ms/step - loss: 0.7457 - accuracy: 0.7421 - val_loss: 0.7233 - val_accuracy: 0.7600\n",
            "Epoch 9/50\n",
            "1563/1563 [==============================] - 10s 6ms/step - loss: 0.7297 - accuracy: 0.7455 - val_loss: 0.6933 - val_accuracy: 0.7640\n",
            "Epoch 10/50\n",
            "1563/1563 [==============================] - 10s 6ms/step - loss: 0.7170 - accuracy: 0.7483 - val_loss: 0.6714 - val_accuracy: 0.7670\n",
            "Epoch 11/50\n",
            "1563/1563 [==============================] - 10s 6ms/step - loss: 0.7039 - accuracy: 0.7565 - val_loss: 0.7248 - val_accuracy: 0.7495\n",
            "Epoch 12/50\n",
            "1563/1563 [==============================] - 9s 6ms/step - loss: 0.6883 - accuracy: 0.7617 - val_loss: 0.6589 - val_accuracy: 0.7712\n",
            "Epoch 13/50\n",
            "1563/1563 [==============================] - 10s 6ms/step - loss: 0.6833 - accuracy: 0.7624 - val_loss: 0.6612 - val_accuracy: 0.7718\n",
            "Epoch 14/50\n",
            "1563/1563 [==============================] - 10s 6ms/step - loss: 0.6726 - accuracy: 0.7659 - val_loss: 0.6750 - val_accuracy: 0.7726\n",
            "Epoch 15/50\n",
            "1563/1563 [==============================] - 10s 6ms/step - loss: 0.6690 - accuracy: 0.7685 - val_loss: 0.6605 - val_accuracy: 0.7747\n",
            "Epoch 16/50\n",
            "1563/1563 [==============================] - 10s 6ms/step - loss: 0.6555 - accuracy: 0.7730 - val_loss: 0.6619 - val_accuracy: 0.7753\n",
            "Epoch 17/50\n",
            "1563/1563 [==============================] - 9s 6ms/step - loss: 0.6564 - accuracy: 0.7731 - val_loss: 0.7050 - val_accuracy: 0.7646\n",
            "Epoch 18/50\n",
            "1563/1563 [==============================] - 10s 6ms/step - loss: 0.6483 - accuracy: 0.7765 - val_loss: 0.6820 - val_accuracy: 0.7664\n",
            "Epoch 19/50\n",
            "1563/1563 [==============================] - 10s 6ms/step - loss: 0.6425 - accuracy: 0.7788 - val_loss: 0.6964 - val_accuracy: 0.7681\n",
            "Epoch 20/50\n",
            "1563/1563 [==============================] - 9s 6ms/step - loss: 0.6279 - accuracy: 0.7817 - val_loss: 0.6789 - val_accuracy: 0.7727\n",
            "Epoch 21/50\n",
            "1563/1563 [==============================] - 9s 6ms/step - loss: 0.6322 - accuracy: 0.7814 - val_loss: 0.6724 - val_accuracy: 0.7765\n",
            "Epoch 22/50\n",
            "1563/1563 [==============================] - 9s 6ms/step - loss: 0.6176 - accuracy: 0.7854 - val_loss: 0.6677 - val_accuracy: 0.7839\n",
            "Epoch 23/50\n",
            "1563/1563 [==============================] - 10s 6ms/step - loss: 0.6165 - accuracy: 0.7862 - val_loss: 0.6404 - val_accuracy: 0.7877\n",
            "Epoch 24/50\n",
            "1563/1563 [==============================] - 9s 6ms/step - loss: 0.6045 - accuracy: 0.7915 - val_loss: 0.6477 - val_accuracy: 0.7822\n",
            "Epoch 25/50\n",
            "1563/1563 [==============================] - 10s 6ms/step - loss: 0.6135 - accuracy: 0.7890 - val_loss: 0.6480 - val_accuracy: 0.7846\n",
            "Epoch 26/50\n",
            "1563/1563 [==============================] - 9s 6ms/step - loss: 0.6035 - accuracy: 0.7922 - val_loss: 0.6479 - val_accuracy: 0.7800\n",
            "Epoch 27/50\n",
            "1563/1563 [==============================] - 9s 6ms/step - loss: 0.6017 - accuracy: 0.7927 - val_loss: 0.6748 - val_accuracy: 0.7735\n",
            "Epoch 28/50\n",
            "1563/1563 [==============================] - 10s 6ms/step - loss: 0.5988 - accuracy: 0.7934 - val_loss: 0.6303 - val_accuracy: 0.7889\n",
            "Epoch 29/50\n",
            "1563/1563 [==============================] - 10s 6ms/step - loss: 0.5973 - accuracy: 0.7923 - val_loss: 0.6434 - val_accuracy: 0.7872\n",
            "Epoch 30/50\n",
            "1563/1563 [==============================] - 10s 6ms/step - loss: 0.5916 - accuracy: 0.7976 - val_loss: 0.6396 - val_accuracy: 0.7920\n",
            "Epoch 31/50\n",
            "1563/1563 [==============================] - 9s 6ms/step - loss: 0.5917 - accuracy: 0.7974 - val_loss: 0.6639 - val_accuracy: 0.7746\n",
            "Epoch 32/50\n",
            "1563/1563 [==============================] - 10s 6ms/step - loss: 0.5875 - accuracy: 0.7977 - val_loss: 0.6681 - val_accuracy: 0.7882\n",
            "Epoch 33/50\n",
            "1563/1563 [==============================] - 10s 6ms/step - loss: 0.5858 - accuracy: 0.7956 - val_loss: 0.6757 - val_accuracy: 0.7810\n",
            "Epoch 34/50\n",
            "1563/1563 [==============================] - 10s 6ms/step - loss: 0.5818 - accuracy: 0.7991 - val_loss: 0.6463 - val_accuracy: 0.7885\n",
            "Epoch 35/50\n",
            "1563/1563 [==============================] - 10s 6ms/step - loss: 0.5786 - accuracy: 0.8011 - val_loss: 0.7006 - val_accuracy: 0.7847\n",
            "Epoch 36/50\n",
            "1563/1563 [==============================] - 9s 6ms/step - loss: 0.5833 - accuracy: 0.7978 - val_loss: 0.6125 - val_accuracy: 0.7962\n",
            "Epoch 37/50\n",
            "1563/1563 [==============================] - 10s 6ms/step - loss: 0.5726 - accuracy: 0.8022 - val_loss: 0.6795 - val_accuracy: 0.7801\n",
            "Epoch 38/50\n",
            "1563/1563 [==============================] - 10s 6ms/step - loss: 0.5667 - accuracy: 0.8043 - val_loss: 0.6372 - val_accuracy: 0.7823\n",
            "Epoch 39/50\n",
            "1563/1563 [==============================] - 9s 6ms/step - loss: 0.5688 - accuracy: 0.8047 - val_loss: 0.6540 - val_accuracy: 0.7857\n",
            "Epoch 40/50\n",
            "1563/1563 [==============================] - 9s 6ms/step - loss: 0.5698 - accuracy: 0.8025 - val_loss: 0.6915 - val_accuracy: 0.7749\n",
            "Epoch 41/50\n",
            "1563/1563 [==============================] - 9s 6ms/step - loss: 0.5691 - accuracy: 0.8045 - val_loss: 0.6469 - val_accuracy: 0.7867\n",
            "Epoch 42/50\n",
            "1563/1563 [==============================] - 10s 6ms/step - loss: 0.5634 - accuracy: 0.8059 - val_loss: 0.6349 - val_accuracy: 0.7912\n",
            "Epoch 43/50\n",
            "1563/1563 [==============================] - 9s 6ms/step - loss: 0.5682 - accuracy: 0.8039 - val_loss: 0.6487 - val_accuracy: 0.7874\n",
            "Epoch 44/50\n",
            "1563/1563 [==============================] - 9s 6ms/step - loss: 0.5612 - accuracy: 0.8072 - val_loss: 0.6439 - val_accuracy: 0.7858\n",
            "Epoch 45/50\n",
            "1563/1563 [==============================] - 10s 6ms/step - loss: 0.5636 - accuracy: 0.8041 - val_loss: 0.6723 - val_accuracy: 0.7821\n",
            "Epoch 46/50\n",
            "1563/1563 [==============================] - 10s 6ms/step - loss: 0.5529 - accuracy: 0.8112 - val_loss: 0.6490 - val_accuracy: 0.7908\n",
            "Epoch 47/50\n",
            "1563/1563 [==============================] - 10s 6ms/step - loss: 0.5584 - accuracy: 0.8077 - val_loss: 0.6682 - val_accuracy: 0.7833\n",
            "Epoch 48/50\n",
            "1563/1563 [==============================] - 10s 6ms/step - loss: 0.5540 - accuracy: 0.8102 - val_loss: 0.6768 - val_accuracy: 0.7819\n",
            "Epoch 49/50\n",
            "1563/1563 [==============================] - 9s 6ms/step - loss: 0.5593 - accuracy: 0.8072 - val_loss: 0.6788 - val_accuracy: 0.7847\n",
            "Epoch 50/50\n",
            "1563/1563 [==============================] - 9s 6ms/step - loss: 0.5564 - accuracy: 0.8077 - val_loss: 0.6530 - val_accuracy: 0.7891\n"
          ]
        },
        {
          "output_type": "execute_result",
          "data": {
            "text/plain": [
              "<keras.callbacks.History at 0x7fdf6b713af0>"
            ]
          },
          "metadata": {},
          "execution_count": 17
        }
      ]
    },
    {
      "cell_type": "markdown",
      "source": [
        "Experiment- I Results :\n",
        "\n",
        "\n",
        "1.  Training Accuracy(69.34%)\n",
        "2.  Validation Accuracy(76.87%)\n",
        "\n"
      ],
      "metadata": {
        "id": "x6F5RARn7Mel"
      }
    },
    {
      "cell_type": "markdown",
      "source": [
        "Experiment - II (Remove dropouts from convolution layers, retain dropouts in FullyConnected Layer, use Batch Normalization)"
      ],
      "metadata": {
        "id": "CKRBpZ136gqD"
      }
    },
    {
      "cell_type": "code",
      "source": [
        "model_2 = Sequential()"
      ],
      "metadata": {
        "id": "aM56TLtx6HU4"
      },
      "execution_count": null,
      "outputs": []
    },
    {
      "cell_type": "code",
      "source": [
        "model_2.add(Conv2D(32,(3,3),padding='same',input_shape=x_train.shape[1:]))\n",
        "model_2.add(Activation('relu'))\n",
        "model_2.add(BatchNormalization())\n",
        "model_2.add(Conv2D(32,(3,3)))\n",
        "model_2.add(Activation('relu'))\n",
        "model_2.add(BatchNormalization())\n",
        "model_2.add(MaxPooling2D(pool_size=(2, 2)))\n",
        "\n",
        "\n",
        "model_2.add(Conv2D(64,(3,3),padding='same'))\n",
        "model_2.add(Activation('relu'))\n",
        "model_2.add(BatchNormalization())\n",
        "model_2.add(Conv2D(64,(3,3)))\n",
        "model_2.add(Activation('relu'))\n",
        "model_2.add(BatchNormalization())\n",
        "model_2.add(MaxPooling2D(pool_size=(2, 2)))\n",
        "\n",
        "model_2.add(Flatten())\n",
        "model_2.add(Dense(512))\n",
        "model_2.add(Activation('relu'))\n",
        "model_2.add(Dropout(0.5))\n",
        "model_2.add(Dense(num_classes))\n",
        "model_2.add(Activation('softmax'))"
      ],
      "metadata": {
        "id": "XpSakQJb6-HQ"
      },
      "execution_count": null,
      "outputs": []
    },
    {
      "cell_type": "code",
      "source": [
        "print(model_2.summary())"
      ],
      "metadata": {
        "colab": {
          "base_uri": "https://localhost:8080/"
        },
        "id": "X-5HTDxTA2Wn",
        "outputId": "bf7ffaca-ba05-4da9-f5df-e2f3d38ff224"
      },
      "execution_count": null,
      "outputs": [
        {
          "output_type": "stream",
          "name": "stdout",
          "text": [
            "Model: \"sequential_3\"\n",
            "_________________________________________________________________\n",
            " Layer (type)                Output Shape              Param #   \n",
            "=================================================================\n",
            " conv2d_13 (Conv2D)          (None, 32, 32, 32)        896       \n",
            "                                                                 \n",
            " activation_18 (Activation)  (None, 32, 32, 32)        0         \n",
            "                                                                 \n",
            " batch_normalization (BatchN  (None, 32, 32, 32)       128       \n",
            " ormalization)                                                   \n",
            "                                                                 \n",
            " conv2d_14 (Conv2D)          (None, 30, 30, 32)        9248      \n",
            "                                                                 \n",
            " activation_19 (Activation)  (None, 30, 30, 32)        0         \n",
            "                                                                 \n",
            " batch_normalization_1 (Batc  (None, 30, 30, 32)       128       \n",
            " hNormalization)                                                 \n",
            "                                                                 \n",
            " max_pooling2d_6 (MaxPooling  (None, 15, 15, 32)       0         \n",
            " 2D)                                                             \n",
            "                                                                 \n",
            " conv2d_15 (Conv2D)          (None, 15, 15, 64)        18496     \n",
            "                                                                 \n",
            " activation_20 (Activation)  (None, 15, 15, 64)        0         \n",
            "                                                                 \n",
            " batch_normalization_2 (Batc  (None, 15, 15, 64)       256       \n",
            " hNormalization)                                                 \n",
            "                                                                 \n",
            " conv2d_16 (Conv2D)          (None, 13, 13, 64)        36928     \n",
            "                                                                 \n",
            " activation_21 (Activation)  (None, 13, 13, 64)        0         \n",
            "                                                                 \n",
            " batch_normalization_3 (Batc  (None, 13, 13, 64)       256       \n",
            " hNormalization)                                                 \n",
            "                                                                 \n",
            " max_pooling2d_7 (MaxPooling  (None, 6, 6, 64)         0         \n",
            " 2D)                                                             \n",
            "                                                                 \n",
            " flatten_3 (Flatten)         (None, 2304)              0         \n",
            "                                                                 \n",
            " dense_6 (Dense)             (None, 512)               1180160   \n",
            "                                                                 \n",
            " activation_22 (Activation)  (None, 512)               0         \n",
            "                                                                 \n",
            " dropout_9 (Dropout)         (None, 512)               0         \n",
            "                                                                 \n",
            " dense_7 (Dense)             (None, 10)                5130      \n",
            "                                                                 \n",
            " activation_23 (Activation)  (None, 10)                0         \n",
            "                                                                 \n",
            "=================================================================\n",
            "Total params: 1,251,626\n",
            "Trainable params: 1,251,242\n",
            "Non-trainable params: 384\n",
            "_________________________________________________________________\n",
            "None\n"
          ]
        }
      ]
    },
    {
      "cell_type": "code",
      "source": [
        "# compile the model\n",
        "model_2.compile(loss='categorical_crossentropy',\n",
        "              optimizer='adam',\n",
        "              metrics=['accuracy'])"
      ],
      "metadata": {
        "id": "QauWRpihA7VQ"
      },
      "execution_count": null,
      "outputs": []
    },
    {
      "cell_type": "code",
      "source": [
        "model_2.fit(x_train, y_train_one_hot,\n",
        "          batch_size=batch_size,epochs=epochs,\n",
        "          validation_data=(x_test, y_test_one_hot),\n",
        "          shuffle=True)"
      ],
      "metadata": {
        "colab": {
          "base_uri": "https://localhost:8080/"
        },
        "id": "SDAjJ-mWBcNj",
        "outputId": "49a37844-49d6-4f34-d7fa-aff2e54cb117"
      },
      "execution_count": null,
      "outputs": [
        {
          "output_type": "stream",
          "name": "stdout",
          "text": [
            "Epoch 1/50\n",
            "1563/1563 [==============================] - 25s 15ms/step - loss: 1.4446 - accuracy: 0.4953 - val_loss: 1.0426 - val_accuracy: 0.6285\n",
            "Epoch 2/50\n",
            "1563/1563 [==============================] - 22s 14ms/step - loss: 0.9692 - accuracy: 0.6623 - val_loss: 0.9231 - val_accuracy: 0.6801\n",
            "Epoch 3/50\n",
            "1563/1563 [==============================] - 21s 14ms/step - loss: 0.7996 - accuracy: 0.7205 - val_loss: 0.7544 - val_accuracy: 0.7380\n",
            "Epoch 4/50\n",
            "1563/1563 [==============================] - 21s 14ms/step - loss: 0.6912 - accuracy: 0.7606 - val_loss: 0.7152 - val_accuracy: 0.7546\n",
            "Epoch 5/50\n",
            "1563/1563 [==============================] - 21s 14ms/step - loss: 0.5945 - accuracy: 0.7927 - val_loss: 0.6975 - val_accuracy: 0.7641\n",
            "Epoch 6/50\n",
            "1563/1563 [==============================] - 22s 14ms/step - loss: 0.5147 - accuracy: 0.8217 - val_loss: 0.7488 - val_accuracy: 0.7528\n",
            "Epoch 7/50\n",
            "1563/1563 [==============================] - 23s 15ms/step - loss: 0.4401 - accuracy: 0.8458 - val_loss: 0.6444 - val_accuracy: 0.7903\n",
            "Epoch 8/50\n",
            "1563/1563 [==============================] - 23s 15ms/step - loss: 0.3847 - accuracy: 0.8637 - val_loss: 0.6958 - val_accuracy: 0.7827\n",
            "Epoch 9/50\n",
            "1563/1563 [==============================] - 23s 14ms/step - loss: 0.3384 - accuracy: 0.8808 - val_loss: 0.6936 - val_accuracy: 0.7871\n",
            "Epoch 10/50\n",
            "1563/1563 [==============================] - 23s 15ms/step - loss: 0.2998 - accuracy: 0.8950 - val_loss: 0.6746 - val_accuracy: 0.7966\n",
            "Epoch 11/50\n",
            "1563/1563 [==============================] - 23s 15ms/step - loss: 0.2661 - accuracy: 0.9061 - val_loss: 0.6913 - val_accuracy: 0.7926\n",
            "Epoch 12/50\n",
            "1563/1563 [==============================] - 23s 15ms/step - loss: 0.2484 - accuracy: 0.9121 - val_loss: 0.7309 - val_accuracy: 0.7933\n",
            "Epoch 13/50\n",
            "1563/1563 [==============================] - 24s 15ms/step - loss: 0.2185 - accuracy: 0.9242 - val_loss: 0.7630 - val_accuracy: 0.7957\n",
            "Epoch 14/50\n",
            "1563/1563 [==============================] - 22s 14ms/step - loss: 0.1996 - accuracy: 0.9294 - val_loss: 0.8859 - val_accuracy: 0.7766\n",
            "Epoch 15/50\n",
            "1563/1563 [==============================] - 22s 14ms/step - loss: 0.1880 - accuracy: 0.9350 - val_loss: 0.8740 - val_accuracy: 0.7930\n",
            "Epoch 16/50\n",
            "1563/1563 [==============================] - 23s 15ms/step - loss: 0.1725 - accuracy: 0.9404 - val_loss: 0.9481 - val_accuracy: 0.7847\n",
            "Epoch 17/50\n",
            "1563/1563 [==============================] - 22s 14ms/step - loss: 0.1636 - accuracy: 0.9435 - val_loss: 0.8131 - val_accuracy: 0.8004\n",
            "Epoch 18/50\n",
            "1563/1563 [==============================] - 23s 15ms/step - loss: 0.1545 - accuracy: 0.9467 - val_loss: 0.8768 - val_accuracy: 0.8012\n",
            "Epoch 19/50\n",
            "1563/1563 [==============================] - 23s 14ms/step - loss: 0.1518 - accuracy: 0.9485 - val_loss: 0.8947 - val_accuracy: 0.7985\n",
            "Epoch 20/50\n",
            "1563/1563 [==============================] - 22s 14ms/step - loss: 0.1435 - accuracy: 0.9500 - val_loss: 0.8674 - val_accuracy: 0.8026\n",
            "Epoch 21/50\n",
            "1563/1563 [==============================] - 23s 15ms/step - loss: 0.1319 - accuracy: 0.9552 - val_loss: 0.8866 - val_accuracy: 0.7948\n",
            "Epoch 22/50\n",
            "1563/1563 [==============================] - 24s 15ms/step - loss: 0.1293 - accuracy: 0.9555 - val_loss: 0.9332 - val_accuracy: 0.7918\n",
            "Epoch 23/50\n",
            "1563/1563 [==============================] - 23s 15ms/step - loss: 0.1242 - accuracy: 0.9574 - val_loss: 0.8790 - val_accuracy: 0.8021\n",
            "Epoch 24/50\n",
            "1563/1563 [==============================] - 23s 15ms/step - loss: 0.1193 - accuracy: 0.9594 - val_loss: 0.9054 - val_accuracy: 0.7974\n",
            "Epoch 25/50\n",
            "1563/1563 [==============================] - 23s 15ms/step - loss: 0.1128 - accuracy: 0.9622 - val_loss: 0.8238 - val_accuracy: 0.8075\n",
            "Epoch 26/50\n",
            "1563/1563 [==============================] - 23s 15ms/step - loss: 0.1146 - accuracy: 0.9613 - val_loss: 0.9902 - val_accuracy: 0.8063\n",
            "Epoch 27/50\n",
            "1563/1563 [==============================] - 23s 14ms/step - loss: 0.1077 - accuracy: 0.9635 - val_loss: 1.0709 - val_accuracy: 0.7952\n",
            "Epoch 28/50\n",
            "1563/1563 [==============================] - 23s 15ms/step - loss: 0.1048 - accuracy: 0.9647 - val_loss: 1.0092 - val_accuracy: 0.7922\n",
            "Epoch 29/50\n",
            "1563/1563 [==============================] - 23s 15ms/step - loss: 0.0999 - accuracy: 0.9666 - val_loss: 0.9493 - val_accuracy: 0.8041\n",
            "Epoch 30/50\n",
            "1563/1563 [==============================] - 23s 15ms/step - loss: 0.0991 - accuracy: 0.9663 - val_loss: 0.8775 - val_accuracy: 0.7993\n",
            "Epoch 31/50\n",
            "1563/1563 [==============================] - 22s 14ms/step - loss: 0.0978 - accuracy: 0.9668 - val_loss: 0.9196 - val_accuracy: 0.7986\n",
            "Epoch 32/50\n",
            "1563/1563 [==============================] - 22s 14ms/step - loss: 0.0975 - accuracy: 0.9687 - val_loss: 1.0872 - val_accuracy: 0.7957\n",
            "Epoch 33/50\n",
            "1563/1563 [==============================] - 23s 14ms/step - loss: 0.0951 - accuracy: 0.9684 - val_loss: 1.0543 - val_accuracy: 0.8074\n",
            "Epoch 34/50\n",
            "1563/1563 [==============================] - 22s 14ms/step - loss: 0.0884 - accuracy: 0.9704 - val_loss: 0.9693 - val_accuracy: 0.7995\n",
            "Epoch 35/50\n",
            "1563/1563 [==============================] - 23s 15ms/step - loss: 0.0924 - accuracy: 0.9688 - val_loss: 1.0283 - val_accuracy: 0.8043\n",
            "Epoch 36/50\n",
            "1563/1563 [==============================] - 23s 15ms/step - loss: 0.0869 - accuracy: 0.9710 - val_loss: 0.9270 - val_accuracy: 0.8030\n",
            "Epoch 37/50\n",
            "1563/1563 [==============================] - 23s 15ms/step - loss: 0.0808 - accuracy: 0.9731 - val_loss: 1.0854 - val_accuracy: 0.8033\n",
            "Epoch 38/50\n",
            "1563/1563 [==============================] - 22s 14ms/step - loss: 0.0856 - accuracy: 0.9718 - val_loss: 1.0905 - val_accuracy: 0.8008\n",
            "Epoch 39/50\n",
            "1563/1563 [==============================] - 22s 14ms/step - loss: 0.0767 - accuracy: 0.9739 - val_loss: 1.2029 - val_accuracy: 0.7984\n",
            "Epoch 40/50\n",
            "1563/1563 [==============================] - 22s 14ms/step - loss: 0.0774 - accuracy: 0.9735 - val_loss: 1.0608 - val_accuracy: 0.8002\n",
            "Epoch 41/50\n",
            "1563/1563 [==============================] - 21s 14ms/step - loss: 0.0820 - accuracy: 0.9733 - val_loss: 0.9885 - val_accuracy: 0.7997\n",
            "Epoch 42/50\n",
            "1563/1563 [==============================] - 21s 14ms/step - loss: 0.0737 - accuracy: 0.9748 - val_loss: 1.2535 - val_accuracy: 0.7793\n",
            "Epoch 43/50\n",
            "1563/1563 [==============================] - 23s 14ms/step - loss: 0.0784 - accuracy: 0.9750 - val_loss: 0.9478 - val_accuracy: 0.8032\n",
            "Epoch 44/50\n",
            "1563/1563 [==============================] - 23s 15ms/step - loss: 0.0704 - accuracy: 0.9763 - val_loss: 1.2566 - val_accuracy: 0.7965\n",
            "Epoch 45/50\n",
            "1563/1563 [==============================] - 22s 14ms/step - loss: 0.0728 - accuracy: 0.9760 - val_loss: 1.1129 - val_accuracy: 0.8063\n",
            "Epoch 46/50\n",
            "1563/1563 [==============================] - 22s 14ms/step - loss: 0.0716 - accuracy: 0.9769 - val_loss: 1.1035 - val_accuracy: 0.8001\n",
            "Epoch 47/50\n",
            "1563/1563 [==============================] - 23s 15ms/step - loss: 0.0722 - accuracy: 0.9758 - val_loss: 1.1006 - val_accuracy: 0.8039\n",
            "Epoch 48/50\n",
            "1563/1563 [==============================] - 23s 15ms/step - loss: 0.0681 - accuracy: 0.9771 - val_loss: 1.1371 - val_accuracy: 0.8037\n",
            "Epoch 49/50\n",
            "1563/1563 [==============================] - 23s 15ms/step - loss: 0.0697 - accuracy: 0.9767 - val_loss: 1.2848 - val_accuracy: 0.7931\n",
            "Epoch 50/50\n",
            "1563/1563 [==============================] - 24s 15ms/step - loss: 0.0673 - accuracy: 0.9781 - val_loss: 1.3090 - val_accuracy: 0.8016\n"
          ]
        },
        {
          "output_type": "execute_result",
          "data": {
            "text/plain": [
              "<keras.callbacks.History at 0x7fed6c846990>"
            ]
          },
          "metadata": {},
          "execution_count": 68
        }
      ]
    },
    {
      "cell_type": "markdown",
      "source": [
        "Experiment- II Results :\n",
        "\n",
        "\n",
        "1.  Training Accuracy(97.81%)\n",
        "2.  Validation Accuracy(80.01%)\n",
        "\n",
        "Significant Dropoff on validation accuracy. Models too complex and hence is overfitting"
      ],
      "metadata": {
        "id": "Fl9MDm4_F8fe"
      }
    },
    {
      "cell_type": "markdown",
      "source": [
        "Experiment- III (Use dropouts after conv and FC layers, use BN)"
      ],
      "metadata": {
        "id": "nG0B_GCqGSou"
      }
    },
    {
      "cell_type": "code",
      "source": [
        "model_3 = Sequential()"
      ],
      "metadata": {
        "id": "pRJNiNlyGSQ3"
      },
      "execution_count": null,
      "outputs": []
    },
    {
      "cell_type": "code",
      "source": [
        "model_3.add(Conv2D(32, (3, 3), padding='same',input_shape=x_train.shape[1:]))\n",
        "model_3.add(Activation('relu'))\n",
        "model_3.add(BatchNormalization())\n",
        "model_3.add(Conv2D(32, (3, 3)))\n",
        "model_3.add(Activation('relu'))\n",
        "model_3.add(BatchNormalization())\n",
        "model_3.add(MaxPooling2D(pool_size=(2, 2)))\n",
        "model_3.add(Dropout(0.25))\n",
        "\n",
        "model_3.add(Conv2D(64, (3, 3), padding='same'))\n",
        "model_3.add(Activation('relu'))\n",
        "model_3.add(BatchNormalization())\n",
        "model_3.add(Conv2D(64, (3, 3)))\n",
        "model_3.add(Activation('relu'))\n",
        "model_3.add(BatchNormalization())\n",
        "model_3.add(MaxPooling2D(pool_size=(2, 2)))\n",
        "model_3.add(Dropout(0.25))\n",
        "\n",
        "model_3.add(Flatten())\n",
        "model_3.add(Dense(512))\n",
        "model_3.add(Activation('relu'))\n",
        "model_3.add(Dropout(0.5))\n",
        "model_3.add(Dense(num_classes))\n",
        "model_3.add(Activation('softmax'))"
      ],
      "metadata": {
        "id": "GbcctjaPGr7J"
      },
      "execution_count": null,
      "outputs": []
    },
    {
      "cell_type": "code",
      "source": [
        "# compile the model\n",
        "model_3.compile(loss='categorical_crossentropy',\n",
        "              optimizer='adam',\n",
        "              metrics=['accuracy'])"
      ],
      "metadata": {
        "id": "Y6fpaq4OMu-F"
      },
      "execution_count": null,
      "outputs": []
    },
    {
      "cell_type": "code",
      "source": [
        "model_3.fit(x_train, y_train_one_hot,\n",
        "          batch_size=batch_size,epochs=epochs,\n",
        "          validation_data=(x_test, y_test_one_hot),\n",
        "          shuffle=True)"
      ],
      "metadata": {
        "colab": {
          "base_uri": "https://localhost:8080/"
        },
        "id": "zjBbXC73MzY6",
        "outputId": "d1245576-96a3-4793-cf90-e47dee7a403d"
      },
      "execution_count": null,
      "outputs": [
        {
          "output_type": "stream",
          "name": "stdout",
          "text": [
            "Epoch 1/50\n",
            "1563/1563 [==============================] - 25s 15ms/step - loss: 1.5307 - accuracy: 0.4680 - val_loss: 1.4691 - val_accuracy: 0.5115\n",
            "Epoch 2/50\n",
            "1563/1563 [==============================] - 23s 15ms/step - loss: 1.0551 - accuracy: 0.6324 - val_loss: 0.9051 - val_accuracy: 0.6737\n",
            "Epoch 3/50\n",
            "1563/1563 [==============================] - 24s 15ms/step - loss: 0.8967 - accuracy: 0.6869 - val_loss: 0.9105 - val_accuracy: 0.6985\n",
            "Epoch 4/50\n",
            "1563/1563 [==============================] - 23s 15ms/step - loss: 0.7993 - accuracy: 0.7212 - val_loss: 0.9075 - val_accuracy: 0.6877\n",
            "Epoch 5/50\n",
            "1563/1563 [==============================] - 23s 15ms/step - loss: 0.7243 - accuracy: 0.7477 - val_loss: 0.7075 - val_accuracy: 0.7543\n",
            "Epoch 6/50\n",
            "1563/1563 [==============================] - 24s 15ms/step - loss: 0.6677 - accuracy: 0.7679 - val_loss: 0.6737 - val_accuracy: 0.7695\n",
            "Epoch 7/50\n",
            "1563/1563 [==============================] - 23s 15ms/step - loss: 0.6210 - accuracy: 0.7849 - val_loss: 0.8074 - val_accuracy: 0.7260\n",
            "Epoch 8/50\n",
            "1563/1563 [==============================] - 24s 15ms/step - loss: 0.5728 - accuracy: 0.7989 - val_loss: 0.8368 - val_accuracy: 0.7245\n",
            "Epoch 9/50\n",
            "1563/1563 [==============================] - 24s 16ms/step - loss: 0.5367 - accuracy: 0.8121 - val_loss: 0.5883 - val_accuracy: 0.8019\n",
            "Epoch 10/50\n",
            "1563/1563 [==============================] - 25s 16ms/step - loss: 0.5056 - accuracy: 0.8230 - val_loss: 0.5755 - val_accuracy: 0.8064\n",
            "Epoch 11/50\n",
            "1563/1563 [==============================] - 24s 15ms/step - loss: 0.4759 - accuracy: 0.8336 - val_loss: 0.5739 - val_accuracy: 0.8097\n",
            "Epoch 12/50\n",
            "1563/1563 [==============================] - 23s 15ms/step - loss: 0.4527 - accuracy: 0.8408 - val_loss: 0.5647 - val_accuracy: 0.8086\n",
            "Epoch 13/50\n",
            "1563/1563 [==============================] - 23s 15ms/step - loss: 0.4236 - accuracy: 0.8520 - val_loss: 0.7805 - val_accuracy: 0.7539\n",
            "Epoch 14/50\n",
            "1563/1563 [==============================] - 23s 15ms/step - loss: 0.4045 - accuracy: 0.8583 - val_loss: 0.5950 - val_accuracy: 0.8064\n",
            "Epoch 15/50\n",
            "1563/1563 [==============================] - 24s 15ms/step - loss: 0.3916 - accuracy: 0.8628 - val_loss: 0.5641 - val_accuracy: 0.8074\n",
            "Epoch 16/50\n",
            "1563/1563 [==============================] - 24s 16ms/step - loss: 0.3664 - accuracy: 0.8714 - val_loss: 0.5773 - val_accuracy: 0.8120\n",
            "Epoch 17/50\n",
            "1563/1563 [==============================] - 23s 15ms/step - loss: 0.3526 - accuracy: 0.8773 - val_loss: 0.5917 - val_accuracy: 0.8107\n",
            "Epoch 18/50\n",
            "1563/1563 [==============================] - 24s 15ms/step - loss: 0.3465 - accuracy: 0.8774 - val_loss: 0.6471 - val_accuracy: 0.7932\n",
            "Epoch 19/50\n",
            "1563/1563 [==============================] - 23s 15ms/step - loss: 0.3308 - accuracy: 0.8850 - val_loss: 0.6306 - val_accuracy: 0.8017\n",
            "Epoch 20/50\n",
            "1563/1563 [==============================] - 24s 15ms/step - loss: 0.3215 - accuracy: 0.8871 - val_loss: 0.6260 - val_accuracy: 0.8086\n",
            "Epoch 21/50\n",
            "1563/1563 [==============================] - 24s 16ms/step - loss: 0.3156 - accuracy: 0.8907 - val_loss: 0.5981 - val_accuracy: 0.8196\n",
            "Epoch 22/50\n",
            "1563/1563 [==============================] - 23s 15ms/step - loss: 0.3037 - accuracy: 0.8938 - val_loss: 0.6600 - val_accuracy: 0.8092\n",
            "Epoch 23/50\n",
            "1563/1563 [==============================] - 23s 15ms/step - loss: 0.2970 - accuracy: 0.8969 - val_loss: 0.5800 - val_accuracy: 0.8193\n",
            "Epoch 24/50\n",
            "1563/1563 [==============================] - 23s 15ms/step - loss: 0.2832 - accuracy: 0.9018 - val_loss: 0.5976 - val_accuracy: 0.8193\n",
            "Epoch 25/50\n",
            "1563/1563 [==============================] - 24s 15ms/step - loss: 0.2824 - accuracy: 0.9008 - val_loss: 0.5774 - val_accuracy: 0.8202\n",
            "Epoch 26/50\n",
            "1563/1563 [==============================] - 25s 16ms/step - loss: 0.2754 - accuracy: 0.9041 - val_loss: 0.5848 - val_accuracy: 0.8243\n",
            "Epoch 27/50\n",
            "1563/1563 [==============================] - 23s 15ms/step - loss: 0.2643 - accuracy: 0.9074 - val_loss: 0.6266 - val_accuracy: 0.8129\n",
            "Epoch 28/50\n",
            "1563/1563 [==============================] - 24s 15ms/step - loss: 0.2571 - accuracy: 0.9103 - val_loss: 0.6610 - val_accuracy: 0.8044\n",
            "Epoch 29/50\n",
            "1563/1563 [==============================] - 24s 15ms/step - loss: 0.2507 - accuracy: 0.9132 - val_loss: 0.6246 - val_accuracy: 0.8235\n",
            "Epoch 30/50\n",
            "1563/1563 [==============================] - 23s 15ms/step - loss: 0.2470 - accuracy: 0.9132 - val_loss: 0.5946 - val_accuracy: 0.8194\n",
            "Epoch 31/50\n",
            "1563/1563 [==============================] - 23s 15ms/step - loss: 0.2430 - accuracy: 0.9162 - val_loss: 0.6415 - val_accuracy: 0.8094\n",
            "Epoch 32/50\n",
            "1563/1563 [==============================] - 24s 16ms/step - loss: 0.2417 - accuracy: 0.9158 - val_loss: 0.5884 - val_accuracy: 0.8278\n",
            "Epoch 33/50\n",
            "1563/1563 [==============================] - 23s 15ms/step - loss: 0.2320 - accuracy: 0.9191 - val_loss: 0.6170 - val_accuracy: 0.8207\n",
            "Epoch 34/50\n",
            "1563/1563 [==============================] - 24s 15ms/step - loss: 0.2336 - accuracy: 0.9185 - val_loss: 0.5811 - val_accuracy: 0.8261\n",
            "Epoch 35/50\n",
            "1563/1563 [==============================] - 24s 15ms/step - loss: 0.2301 - accuracy: 0.9202 - val_loss: 0.6064 - val_accuracy: 0.8271\n",
            "Epoch 36/50\n",
            "1563/1563 [==============================] - 23s 15ms/step - loss: 0.2192 - accuracy: 0.9237 - val_loss: 0.6242 - val_accuracy: 0.8228\n",
            "Epoch 37/50\n",
            "1563/1563 [==============================] - 23s 15ms/step - loss: 0.2206 - accuracy: 0.9231 - val_loss: 0.6262 - val_accuracy: 0.8285\n",
            "Epoch 38/50\n",
            "1563/1563 [==============================] - 24s 15ms/step - loss: 0.2091 - accuracy: 0.9280 - val_loss: 0.6699 - val_accuracy: 0.8249\n",
            "Epoch 39/50\n",
            "1563/1563 [==============================] - 23s 15ms/step - loss: 0.2109 - accuracy: 0.9259 - val_loss: 0.6579 - val_accuracy: 0.8260\n",
            "Epoch 40/50\n",
            "1563/1563 [==============================] - 23s 14ms/step - loss: 0.2064 - accuracy: 0.9295 - val_loss: 0.6558 - val_accuracy: 0.8172\n",
            "Epoch 41/50\n",
            "1563/1563 [==============================] - 22s 14ms/step - loss: 0.2114 - accuracy: 0.9281 - val_loss: 0.6167 - val_accuracy: 0.8260\n",
            "Epoch 42/50\n",
            "1563/1563 [==============================] - 22s 14ms/step - loss: 0.2039 - accuracy: 0.9308 - val_loss: 0.6669 - val_accuracy: 0.8187\n",
            "Epoch 43/50\n",
            "1563/1563 [==============================] - 22s 14ms/step - loss: 0.1948 - accuracy: 0.9322 - val_loss: 0.6381 - val_accuracy: 0.8308\n",
            "Epoch 44/50\n",
            "1563/1563 [==============================] - 23s 15ms/step - loss: 0.2017 - accuracy: 0.9314 - val_loss: 0.6166 - val_accuracy: 0.8296\n",
            "Epoch 45/50\n",
            "1563/1563 [==============================] - 23s 14ms/step - loss: 0.1955 - accuracy: 0.9328 - val_loss: 0.7089 - val_accuracy: 0.8142\n",
            "Epoch 46/50\n",
            "1563/1563 [==============================] - 23s 15ms/step - loss: 0.1913 - accuracy: 0.9340 - val_loss: 0.6527 - val_accuracy: 0.8319\n",
            "Epoch 47/50\n",
            "1563/1563 [==============================] - 23s 15ms/step - loss: 0.1964 - accuracy: 0.9327 - val_loss: 0.6376 - val_accuracy: 0.8208\n",
            "Epoch 48/50\n",
            "1563/1563 [==============================] - 23s 15ms/step - loss: 0.1889 - accuracy: 0.9346 - val_loss: 0.5805 - val_accuracy: 0.8289\n",
            "Epoch 49/50\n",
            "1563/1563 [==============================] - 24s 15ms/step - loss: 0.1881 - accuracy: 0.9360 - val_loss: 0.5753 - val_accuracy: 0.8303\n",
            "Epoch 50/50\n",
            "1563/1563 [==============================] - 22s 14ms/step - loss: 0.1831 - accuracy: 0.9377 - val_loss: 0.6908 - val_accuracy: 0.8282\n"
          ]
        },
        {
          "output_type": "execute_result",
          "data": {
            "text/plain": [
              "<keras.callbacks.History at 0x7fecd6a84410>"
            ]
          },
          "metadata": {},
          "execution_count": 103
        }
      ]
    },
    {
      "cell_type": "markdown",
      "source": [
        "Experiment- III Results :\n",
        "\n",
        "\n",
        "1.  Training Accuracy(93.77%)\n",
        "2.  Validation Accuracy(82.821%)\n",
        "\n",
        "Much Better fit of the model\n"
      ],
      "metadata": {
        "id": "ItAJHEHDTKI_"
      }
    },
    {
      "cell_type": "markdown",
      "source": [
        "Experiment - IV (Remove dropouts from conv layers, use L2 + dropouts in FC, use BN)"
      ],
      "metadata": {
        "id": "hm41O4JOTZAm"
      }
    },
    {
      "cell_type": "code",
      "source": [
        "model_4 = Sequential()"
      ],
      "metadata": {
        "id": "PN13D_H1Tdro"
      },
      "execution_count": null,
      "outputs": []
    },
    {
      "cell_type": "code",
      "source": [
        "from tensorflow.keras.regularizers import l2"
      ],
      "metadata": {
        "id": "KwXZiKL8TjCS"
      },
      "execution_count": null,
      "outputs": []
    },
    {
      "cell_type": "code",
      "source": [
        "model_4.add(Conv2D(32, (3, 3), padding='same',input_shape=x_train.shape[1:]))\n",
        "model_4.add(Activation('relu'))\n",
        "model_4.add(BatchNormalization())\n",
        "model_4.add(Conv2D(32, (3, 3)))\n",
        "model_4.add(Activation('relu'))\n",
        "model_4.add(BatchNormalization())\n",
        "model_4.add(MaxPooling2D(pool_size=(2, 2)))\n",
        "\n",
        "model_4.add(Conv2D(64, (3, 3), padding='same'))\n",
        "model_4.add(Activation('relu'))\n",
        "model_4.add(BatchNormalization())\n",
        "model_4.add(Conv2D(64, (3, 3)))\n",
        "model_4.add(Activation('relu'))\n",
        "model_4.add(BatchNormalization())\n",
        "model_4.add(MaxPooling2D(pool_size=(2, 2)))\n",
        "\n",
        "model_4.add(Flatten())\n",
        "model_4.add(Dense(512,kernel_regularizer = l2(0.01)))\n",
        "model_4.add(Activation('relu'))\n",
        "model_4.add(Dropout(0.5))\n",
        "model_4.add(Dense(num_classes))\n",
        "model_4.add(Activation('softmax'))"
      ],
      "metadata": {
        "id": "_lkTnj7HTqol"
      },
      "execution_count": null,
      "outputs": []
    },
    {
      "cell_type": "code",
      "source": [
        "model_4.compile(loss='categorical_crossentropy',\n",
        "              optimizer='adam',\n",
        "              metrics=['accuracy'])"
      ],
      "metadata": {
        "id": "DBdnDYNqU59Y"
      },
      "execution_count": null,
      "outputs": []
    },
    {
      "cell_type": "code",
      "source": [
        "model_4.fit(x_train, y_train_one_hot,\n",
        "          batch_size=batch_size,epochs=epochs,\n",
        "          validation_data=(x_test, y_test_one_hot),\n",
        "          shuffle=True)"
      ],
      "metadata": {
        "colab": {
          "base_uri": "https://localhost:8080/"
        },
        "id": "OmPX2J_tV50r",
        "outputId": "f394b478-04cf-4384-9aa1-cb63a3376b27"
      },
      "execution_count": null,
      "outputs": [
        {
          "output_type": "stream",
          "name": "stdout",
          "text": [
            "Epoch 1/50\n",
            "1563/1563 [==============================] - 23s 14ms/step - loss: 2.8627 - accuracy: 0.5111 - val_loss: 1.6138 - val_accuracy: 0.6374\n",
            "Epoch 2/50\n",
            "1563/1563 [==============================] - 21s 14ms/step - loss: 1.6050 - accuracy: 0.6549 - val_loss: 1.6324 - val_accuracy: 0.6508\n",
            "Epoch 3/50\n",
            "1563/1563 [==============================] - 20s 13ms/step - loss: 1.5306 - accuracy: 0.6905 - val_loss: 1.5514 - val_accuracy: 0.6888\n",
            "Epoch 4/50\n",
            "1563/1563 [==============================] - 20s 13ms/step - loss: 1.4844 - accuracy: 0.7120 - val_loss: 1.4346 - val_accuracy: 0.7258\n",
            "Epoch 5/50\n",
            "1563/1563 [==============================] - 20s 13ms/step - loss: 1.4353 - accuracy: 0.7284 - val_loss: 1.6043 - val_accuracy: 0.6799\n",
            "Epoch 6/50\n",
            "1563/1563 [==============================] - 20s 13ms/step - loss: 1.4153 - accuracy: 0.7419 - val_loss: 1.4860 - val_accuracy: 0.7160\n",
            "Epoch 7/50\n",
            "1563/1563 [==============================] - 20s 13ms/step - loss: 1.3688 - accuracy: 0.7554 - val_loss: 1.4968 - val_accuracy: 0.7105\n",
            "Epoch 8/50\n",
            "1563/1563 [==============================] - 20s 13ms/step - loss: 1.3501 - accuracy: 0.7628 - val_loss: 1.3878 - val_accuracy: 0.7491\n",
            "Epoch 9/50\n",
            "1563/1563 [==============================] - 20s 13ms/step - loss: 1.3228 - accuracy: 0.7706 - val_loss: 1.3923 - val_accuracy: 0.7651\n",
            "Epoch 10/50\n",
            "1563/1563 [==============================] - 21s 14ms/step - loss: 1.3092 - accuracy: 0.7828 - val_loss: 1.3975 - val_accuracy: 0.7520\n",
            "Epoch 11/50\n",
            "1563/1563 [==============================] - 22s 14ms/step - loss: 1.2899 - accuracy: 0.7865 - val_loss: 1.3910 - val_accuracy: 0.7450\n",
            "Epoch 12/50\n",
            "1563/1563 [==============================] - 21s 14ms/step - loss: 1.2672 - accuracy: 0.7934 - val_loss: 1.4001 - val_accuracy: 0.7471\n",
            "Epoch 13/50\n",
            "1563/1563 [==============================] - 20s 13ms/step - loss: 1.2524 - accuracy: 0.7966 - val_loss: 1.3807 - val_accuracy: 0.7510\n",
            "Epoch 14/50\n",
            "1563/1563 [==============================] - 22s 14ms/step - loss: 1.2313 - accuracy: 0.8009 - val_loss: 1.3001 - val_accuracy: 0.7752\n",
            "Epoch 15/50\n",
            "1563/1563 [==============================] - 21s 14ms/step - loss: 1.2185 - accuracy: 0.8048 - val_loss: 1.3256 - val_accuracy: 0.7742\n",
            "Epoch 16/50\n",
            "1563/1563 [==============================] - 21s 14ms/step - loss: 1.1998 - accuracy: 0.8109 - val_loss: 1.2920 - val_accuracy: 0.7824\n",
            "Epoch 17/50\n",
            "1563/1563 [==============================] - 21s 14ms/step - loss: 1.1920 - accuracy: 0.8139 - val_loss: 1.2874 - val_accuracy: 0.7823\n",
            "Epoch 18/50\n",
            "1563/1563 [==============================] - 20s 13ms/step - loss: 1.1897 - accuracy: 0.8176 - val_loss: 1.3844 - val_accuracy: 0.7605\n",
            "Epoch 19/50\n",
            "1563/1563 [==============================] - 20s 13ms/step - loss: 1.1652 - accuracy: 0.8226 - val_loss: 1.3734 - val_accuracy: 0.7679\n",
            "Epoch 20/50\n",
            "1563/1563 [==============================] - 21s 14ms/step - loss: 1.1537 - accuracy: 0.8268 - val_loss: 1.3468 - val_accuracy: 0.7728\n",
            "Epoch 21/50\n",
            "1563/1563 [==============================] - 22s 14ms/step - loss: 1.1421 - accuracy: 0.8279 - val_loss: 1.2627 - val_accuracy: 0.7879\n",
            "Epoch 22/50\n",
            "1563/1563 [==============================] - 22s 14ms/step - loss: 1.1320 - accuracy: 0.8319 - val_loss: 1.3191 - val_accuracy: 0.7831\n",
            "Epoch 23/50\n",
            "1563/1563 [==============================] - 20s 13ms/step - loss: 1.1218 - accuracy: 0.8337 - val_loss: 1.2939 - val_accuracy: 0.7835\n",
            "Epoch 24/50\n",
            "1563/1563 [==============================] - 21s 14ms/step - loss: 1.1130 - accuracy: 0.8373 - val_loss: 1.2782 - val_accuracy: 0.7817\n",
            "Epoch 25/50\n",
            "1563/1563 [==============================] - 22s 14ms/step - loss: 1.1044 - accuracy: 0.8409 - val_loss: 1.2494 - val_accuracy: 0.7818\n",
            "Epoch 26/50\n",
            "1563/1563 [==============================] - 22s 14ms/step - loss: 1.0934 - accuracy: 0.8418 - val_loss: 1.3091 - val_accuracy: 0.7701\n",
            "Epoch 27/50\n",
            "1563/1563 [==============================] - 21s 13ms/step - loss: 1.0854 - accuracy: 0.8445 - val_loss: 1.3695 - val_accuracy: 0.7555\n",
            "Epoch 28/50\n",
            "1563/1563 [==============================] - 21s 13ms/step - loss: 1.0904 - accuracy: 0.8475 - val_loss: 1.3133 - val_accuracy: 0.7788\n",
            "Epoch 29/50\n",
            "1563/1563 [==============================] - 21s 14ms/step - loss: 1.0679 - accuracy: 0.8494 - val_loss: 1.2719 - val_accuracy: 0.7841\n",
            "Epoch 30/50\n",
            "1563/1563 [==============================] - 21s 13ms/step - loss: 1.0748 - accuracy: 0.8491 - val_loss: 1.3688 - val_accuracy: 0.7638\n",
            "Epoch 31/50\n",
            "1563/1563 [==============================] - 21s 14ms/step - loss: 1.0662 - accuracy: 0.8530 - val_loss: 1.4005 - val_accuracy: 0.7493\n",
            "Epoch 32/50\n",
            "1563/1563 [==============================] - 21s 13ms/step - loss: 1.0515 - accuracy: 0.8565 - val_loss: 1.3421 - val_accuracy: 0.7764\n",
            "Epoch 33/50\n",
            "1563/1563 [==============================] - 21s 14ms/step - loss: 1.0561 - accuracy: 0.8565 - val_loss: 1.3609 - val_accuracy: 0.7683\n",
            "Epoch 34/50\n",
            "1563/1563 [==============================] - 20s 13ms/step - loss: 1.0383 - accuracy: 0.8589 - val_loss: 1.3234 - val_accuracy: 0.7735\n",
            "Epoch 35/50\n",
            "1563/1563 [==============================] - 21s 14ms/step - loss: 1.0333 - accuracy: 0.8601 - val_loss: 1.3099 - val_accuracy: 0.7853\n",
            "Epoch 36/50\n",
            "1563/1563 [==============================] - 21s 13ms/step - loss: 1.0341 - accuracy: 0.8605 - val_loss: 1.2858 - val_accuracy: 0.7841\n",
            "Epoch 37/50\n",
            "1563/1563 [==============================] - 21s 14ms/step - loss: 1.0347 - accuracy: 0.8623 - val_loss: 1.3134 - val_accuracy: 0.7818\n",
            "Epoch 38/50\n",
            "1563/1563 [==============================] - 20s 13ms/step - loss: 1.0097 - accuracy: 0.8632 - val_loss: 1.3710 - val_accuracy: 0.7728\n",
            "Epoch 39/50\n",
            "1563/1563 [==============================] - 22s 14ms/step - loss: 1.0120 - accuracy: 0.8676 - val_loss: 1.3248 - val_accuracy: 0.7772\n",
            "Epoch 40/50\n",
            "1563/1563 [==============================] - 22s 14ms/step - loss: 1.0114 - accuracy: 0.8683 - val_loss: 1.3206 - val_accuracy: 0.7837\n",
            "Epoch 41/50\n",
            "1563/1563 [==============================] - 20s 13ms/step - loss: 0.9983 - accuracy: 0.8718 - val_loss: 1.3172 - val_accuracy: 0.7784\n",
            "Epoch 42/50\n",
            "1563/1563 [==============================] - 21s 14ms/step - loss: 0.9916 - accuracy: 0.8722 - val_loss: 1.3153 - val_accuracy: 0.7809\n",
            "Epoch 43/50\n",
            "1563/1563 [==============================] - 21s 14ms/step - loss: 1.0040 - accuracy: 0.8716 - val_loss: 1.2993 - val_accuracy: 0.7908\n",
            "Epoch 44/50\n",
            "1563/1563 [==============================] - 21s 14ms/step - loss: 0.9883 - accuracy: 0.8759 - val_loss: 1.3200 - val_accuracy: 0.7839\n",
            "Epoch 45/50\n",
            "1563/1563 [==============================] - 20s 13ms/step - loss: 0.9861 - accuracy: 0.8761 - val_loss: 1.3731 - val_accuracy: 0.7756\n",
            "Epoch 46/50\n",
            "1563/1563 [==============================] - 20s 13ms/step - loss: 0.9888 - accuracy: 0.8762 - val_loss: 1.3289 - val_accuracy: 0.7751\n",
            "Epoch 47/50\n",
            "1563/1563 [==============================] - 20s 13ms/step - loss: 0.9856 - accuracy: 0.8777 - val_loss: 1.3293 - val_accuracy: 0.7750\n",
            "Epoch 48/50\n",
            "1563/1563 [==============================] - 21s 14ms/step - loss: 0.9820 - accuracy: 0.8772 - val_loss: 1.3113 - val_accuracy: 0.7860\n",
            "Epoch 49/50\n",
            "1563/1563 [==============================] - 22s 14ms/step - loss: 0.9869 - accuracy: 0.8780 - val_loss: 1.3468 - val_accuracy: 0.7723\n",
            "Epoch 50/50\n",
            "1563/1563 [==============================] - 21s 14ms/step - loss: 0.9684 - accuracy: 0.8819 - val_loss: 1.3798 - val_accuracy: 0.7736\n"
          ]
        },
        {
          "output_type": "execute_result",
          "data": {
            "text/plain": [
              "<keras.callbacks.History at 0x7fecd66b3350>"
            ]
          },
          "metadata": {},
          "execution_count": 114
        }
      ]
    },
    {
      "cell_type": "markdown",
      "source": [
        "With Simply L2 Regularization the Model Overfits again"
      ],
      "metadata": {
        "id": "YjqfDZDUY_-W"
      }
    },
    {
      "cell_type": "markdown",
      "source": [
        "Experiment V - Putting everything together"
      ],
      "metadata": {
        "id": "83KE-OHwY_tO"
      }
    },
    {
      "cell_type": "code",
      "source": [
        "model_5 = Sequential()"
      ],
      "metadata": {
        "id": "ZpB8RKn0aZw2"
      },
      "execution_count": null,
      "outputs": []
    },
    {
      "cell_type": "code",
      "source": [
        "model_5.add(Conv2D(32, (3, 3), padding='same',input_shape=x_train.shape[1:]))\n",
        "model_5.add(Activation('relu'))\n",
        "model_5.add(BatchNormalization())\n",
        "model_5.add(Conv2D(32, (3, 3)))\n",
        "model_5.add(Activation('relu'))\n",
        "model_5.add(BatchNormalization())\n",
        "model_5.add(MaxPooling2D(pool_size=(2, 2)))\n",
        "model_5.add(Dropout(0.25))\n",
        "\n",
        "\n",
        "model_5.add(Conv2D(64, (3, 3), padding='same'))\n",
        "model_5.add(Activation('relu'))\n",
        "model_5.add(BatchNormalization())\n",
        "model_5.add(Conv2D(64, (3, 3)))\n",
        "model_5.add(Activation('relu'))\n",
        "model_5.add(BatchNormalization())\n",
        "model_5.add(MaxPooling2D(pool_size=(2, 2)))\n",
        "model_5.add(Dropout(0.25))\n",
        "\n",
        "\n",
        "\n",
        "model_5.add(Flatten())\n",
        "model_5.add(Dense(512,kernel_regularizer = l2(0.01)))\n",
        "model_5.add(Activation('relu'))\n",
        "model_5.add(Dropout(0.5))\n",
        "model_5.add(Dense(num_classes))\n",
        "model_5.add(Activation('softmax'))"
      ],
      "metadata": {
        "id": "LLDjEvb6ZGwJ"
      },
      "execution_count": null,
      "outputs": []
    },
    {
      "cell_type": "code",
      "source": [
        "model_5.compile(loss='categorical_crossentropy',\n",
        "              optimizer='adam',\n",
        "              metrics=['accuracy'])"
      ],
      "metadata": {
        "id": "dvnBuDVOarK5"
      },
      "execution_count": null,
      "outputs": []
    },
    {
      "cell_type": "code",
      "source": [
        "model_5.fit(x_train, y_train_one_hot,\n",
        "          batch_size=batch_size,epochs=epochs,\n",
        "          validation_data=(x_test, y_test_one_hot),\n",
        "          shuffle=True)"
      ],
      "metadata": {
        "colab": {
          "base_uri": "https://localhost:8080/"
        },
        "id": "QN0ugfNuau0z",
        "outputId": "df1e221f-42b3-4ec3-d111-eaa1ab77aa2a"
      },
      "execution_count": null,
      "outputs": [
        {
          "output_type": "stream",
          "name": "stdout",
          "text": [
            "Epoch 1/50\n",
            "1563/1563 [==============================] - 24s 14ms/step - loss: 3.2836 - accuracy: 0.4650 - val_loss: 1.8423 - val_accuracy: 0.5863\n",
            "Epoch 2/50\n",
            "1563/1563 [==============================] - 21s 13ms/step - loss: 1.7774 - accuracy: 0.6145 - val_loss: 1.7400 - val_accuracy: 0.6336\n",
            "Epoch 3/50\n",
            "1563/1563 [==============================] - 22s 14ms/step - loss: 1.7044 - accuracy: 0.6491 - val_loss: 1.7788 - val_accuracy: 0.6322\n",
            "Epoch 4/50\n",
            "1563/1563 [==============================] - 23s 15ms/step - loss: 1.6722 - accuracy: 0.6715 - val_loss: 1.7320 - val_accuracy: 0.6581\n",
            "Epoch 5/50\n",
            "1563/1563 [==============================] - 24s 15ms/step - loss: 1.6356 - accuracy: 0.6860 - val_loss: 1.5346 - val_accuracy: 0.7214\n",
            "Epoch 6/50\n",
            "1563/1563 [==============================] - 22s 14ms/step - loss: 1.5888 - accuracy: 0.6995 - val_loss: 1.5432 - val_accuracy: 0.7139\n",
            "Epoch 7/50\n",
            "1563/1563 [==============================] - 22s 14ms/step - loss: 1.5676 - accuracy: 0.7089 - val_loss: 1.5920 - val_accuracy: 0.7000\n",
            "Epoch 8/50\n",
            "1563/1563 [==============================] - 23s 15ms/step - loss: 1.5246 - accuracy: 0.7201 - val_loss: 1.5336 - val_accuracy: 0.7199\n",
            "Epoch 9/50\n",
            "1563/1563 [==============================] - 21s 14ms/step - loss: 1.5174 - accuracy: 0.7263 - val_loss: 1.4789 - val_accuracy: 0.7341\n",
            "Epoch 10/50\n",
            "1563/1563 [==============================] - 20s 13ms/step - loss: 1.4952 - accuracy: 0.7317 - val_loss: 1.4619 - val_accuracy: 0.7483\n",
            "Epoch 11/50\n",
            "1563/1563 [==============================] - 20s 13ms/step - loss: 1.4717 - accuracy: 0.7415 - val_loss: 1.4477 - val_accuracy: 0.7492\n",
            "Epoch 12/50\n",
            "1563/1563 [==============================] - 22s 14ms/step - loss: 1.4587 - accuracy: 0.7441 - val_loss: 1.4086 - val_accuracy: 0.7671\n",
            "Epoch 13/50\n",
            "1563/1563 [==============================] - 21s 13ms/step - loss: 1.4504 - accuracy: 0.7467 - val_loss: 1.4201 - val_accuracy: 0.7628\n",
            "Epoch 14/50\n",
            "1563/1563 [==============================] - 22s 14ms/step - loss: 1.4251 - accuracy: 0.7525 - val_loss: 1.3639 - val_accuracy: 0.7819\n",
            "Epoch 15/50\n",
            "1563/1563 [==============================] - 22s 14ms/step - loss: 1.4225 - accuracy: 0.7559 - val_loss: 1.4348 - val_accuracy: 0.7522\n",
            "Epoch 16/50\n",
            "1563/1563 [==============================] - 21s 13ms/step - loss: 1.4075 - accuracy: 0.7585 - val_loss: 1.4108 - val_accuracy: 0.7641\n",
            "Epoch 17/50\n",
            "1563/1563 [==============================] - 20s 13ms/step - loss: 1.4018 - accuracy: 0.7638 - val_loss: 1.3467 - val_accuracy: 0.7822\n",
            "Epoch 18/50\n",
            "1563/1563 [==============================] - 22s 14ms/step - loss: 1.3901 - accuracy: 0.7647 - val_loss: 1.3838 - val_accuracy: 0.7678\n",
            "Epoch 19/50\n",
            "1563/1563 [==============================] - 21s 13ms/step - loss: 1.3793 - accuracy: 0.7683 - val_loss: 1.3024 - val_accuracy: 0.7887\n",
            "Epoch 20/50\n",
            "1563/1563 [==============================] - 22s 14ms/step - loss: 1.3662 - accuracy: 0.7690 - val_loss: 1.2962 - val_accuracy: 0.7855\n",
            "Epoch 21/50\n",
            "1563/1563 [==============================] - 22s 14ms/step - loss: 1.3497 - accuracy: 0.7738 - val_loss: 1.4581 - val_accuracy: 0.7352\n",
            "Epoch 22/50\n",
            "1563/1563 [==============================] - 21s 13ms/step - loss: 1.3443 - accuracy: 0.7732 - val_loss: 1.3036 - val_accuracy: 0.7861\n",
            "Epoch 23/50\n",
            "1563/1563 [==============================] - 22s 14ms/step - loss: 1.3320 - accuracy: 0.7768 - val_loss: 1.3581 - val_accuracy: 0.7711\n",
            "Epoch 24/50\n",
            "1563/1563 [==============================] - 21s 13ms/step - loss: 1.3242 - accuracy: 0.7792 - val_loss: 1.3211 - val_accuracy: 0.7721\n",
            "Epoch 25/50\n",
            "1563/1563 [==============================] - 20s 13ms/step - loss: 1.3135 - accuracy: 0.7788 - val_loss: 1.2896 - val_accuracy: 0.7847\n",
            "Epoch 26/50\n",
            "1563/1563 [==============================] - 22s 14ms/step - loss: 1.3070 - accuracy: 0.7821 - val_loss: 1.2792 - val_accuracy: 0.7923\n",
            "Epoch 27/50\n",
            "1563/1563 [==============================] - 22s 14ms/step - loss: 1.3062 - accuracy: 0.7827 - val_loss: 1.2666 - val_accuracy: 0.7927\n",
            "Epoch 28/50\n",
            "1563/1563 [==============================] - 22s 14ms/step - loss: 1.2962 - accuracy: 0.7871 - val_loss: 1.3147 - val_accuracy: 0.7828\n",
            "Epoch 29/50\n",
            "1563/1563 [==============================] - 21s 13ms/step - loss: 1.2827 - accuracy: 0.7863 - val_loss: 1.2999 - val_accuracy: 0.7882\n",
            "Epoch 30/50\n",
            "1563/1563 [==============================] - 22s 14ms/step - loss: 1.2852 - accuracy: 0.7880 - val_loss: 1.3129 - val_accuracy: 0.7782\n",
            "Epoch 31/50\n",
            "1563/1563 [==============================] - 22s 14ms/step - loss: 1.2771 - accuracy: 0.7897 - val_loss: 1.2544 - val_accuracy: 0.7929\n",
            "Epoch 32/50\n",
            "1563/1563 [==============================] - 22s 14ms/step - loss: 1.2739 - accuracy: 0.7894 - val_loss: 1.2599 - val_accuracy: 0.7887\n",
            "Epoch 33/50\n",
            "1563/1563 [==============================] - 22s 14ms/step - loss: 1.2623 - accuracy: 0.7915 - val_loss: 1.2639 - val_accuracy: 0.7951\n",
            "Epoch 34/50\n",
            "1563/1563 [==============================] - 22s 14ms/step - loss: 1.2697 - accuracy: 0.7931 - val_loss: 1.2374 - val_accuracy: 0.8015\n",
            "Epoch 35/50\n",
            "1563/1563 [==============================] - 21s 13ms/step - loss: 1.2656 - accuracy: 0.7926 - val_loss: 1.2802 - val_accuracy: 0.7885\n",
            "Epoch 36/50\n",
            "1563/1563 [==============================] - 22s 14ms/step - loss: 1.2585 - accuracy: 0.7944 - val_loss: 1.2649 - val_accuracy: 0.7924\n",
            "Epoch 37/50\n",
            "1563/1563 [==============================] - 23s 15ms/step - loss: 1.2435 - accuracy: 0.7965 - val_loss: 1.2309 - val_accuracy: 0.8093\n",
            "Epoch 38/50\n",
            "1563/1563 [==============================] - 21s 13ms/step - loss: 1.2435 - accuracy: 0.8011 - val_loss: 1.3005 - val_accuracy: 0.7918\n",
            "Epoch 39/50\n",
            "1563/1563 [==============================] - 21s 13ms/step - loss: 1.2522 - accuracy: 0.7969 - val_loss: 1.2278 - val_accuracy: 0.8049\n",
            "Epoch 40/50\n",
            "1563/1563 [==============================] - 21s 13ms/step - loss: 1.2438 - accuracy: 0.7983 - val_loss: 1.2416 - val_accuracy: 0.8009\n",
            "Epoch 41/50\n",
            "1563/1563 [==============================] - 22s 14ms/step - loss: 1.2421 - accuracy: 0.7980 - val_loss: 1.2258 - val_accuracy: 0.8083\n",
            "Epoch 42/50\n",
            "1563/1563 [==============================] - 21s 13ms/step - loss: 1.2356 - accuracy: 0.8003 - val_loss: 1.3557 - val_accuracy: 0.7566\n",
            "Epoch 43/50\n",
            "1563/1563 [==============================] - 22s 14ms/step - loss: 1.2369 - accuracy: 0.8010 - val_loss: 1.2788 - val_accuracy: 0.7974\n",
            "Epoch 44/50\n",
            "1563/1563 [==============================] - 22s 14ms/step - loss: 1.2274 - accuracy: 0.8034 - val_loss: 1.2379 - val_accuracy: 0.8038\n",
            "Epoch 45/50\n",
            "1563/1563 [==============================] - 23s 15ms/step - loss: 1.2308 - accuracy: 0.8014 - val_loss: 1.2446 - val_accuracy: 0.8028\n",
            "Epoch 46/50\n",
            "1563/1563 [==============================] - 21s 13ms/step - loss: 1.2152 - accuracy: 0.8052 - val_loss: 1.4322 - val_accuracy: 0.7504\n",
            "Epoch 47/50\n",
            "1563/1563 [==============================] - 21s 13ms/step - loss: 1.2189 - accuracy: 0.8070 - val_loss: 1.2579 - val_accuracy: 0.7998\n",
            "Epoch 48/50\n",
            "1563/1563 [==============================] - 22s 14ms/step - loss: 1.2180 - accuracy: 0.8036 - val_loss: 1.2257 - val_accuracy: 0.8017\n",
            "Epoch 49/50\n",
            "1563/1563 [==============================] - 22s 14ms/step - loss: 1.2147 - accuracy: 0.8076 - val_loss: 1.2514 - val_accuracy: 0.7944\n",
            "Epoch 50/50\n",
            "1563/1563 [==============================] - 22s 14ms/step - loss: 1.2092 - accuracy: 0.8079 - val_loss: 1.3123 - val_accuracy: 0.7729\n"
          ]
        },
        {
          "output_type": "execute_result",
          "data": {
            "text/plain": [
              "<keras.callbacks.History at 0x7fecd4308e50>"
            ]
          },
          "metadata": {},
          "execution_count": 118
        }
      ]
    },
    {
      "cell_type": "markdown",
      "source": [
        "Experiment VI : Using the VGG16 Architecture"
      ],
      "metadata": {
        "id": "K09nCXqoa0AE"
      }
    },
    {
      "cell_type": "code",
      "source": [
        "vgg = Sequential()"
      ],
      "metadata": {
        "id": "pBOr_fV7a7Hu"
      },
      "execution_count": null,
      "outputs": []
    },
    {
      "cell_type": "code",
      "source": [
        "vgg.add(Conv2D(32, (3, 3), padding='same',input_shape=x_train.shape[1:]))\n",
        "vgg.add(Activation('relu'))\n",
        "vgg.add(BatchNormalization())\n",
        "vgg.add(Conv2D(32, (3, 3)))\n",
        "vgg.add(Activation('relu'))\n",
        "vgg.add(BatchNormalization())\n",
        "vgg.add(MaxPooling2D(pool_size=(2, 2)))\n",
        "vgg.add(Dropout(0.25))\n",
        "\n",
        "\n",
        "vgg.add(Conv2D(64, (3, 3), padding='same'))\n",
        "vgg.add(Activation('relu'))\n",
        "vgg.add(BatchNormalization())\n",
        "vgg.add(Conv2D(64, (3, 3)))\n",
        "vgg.add(Activation('relu'))\n",
        "vgg.add(BatchNormalization())\n",
        "vgg.add(MaxPooling2D(pool_size=(2, 2)))\n",
        "vgg.add(Dropout(0.25))\n",
        "\n",
        "vgg.add(Conv2D(128, (3, 3), padding='same'))\n",
        "vgg.add(Activation('relu'))\n",
        "vgg.add(BatchNormalization())\n",
        "vgg.add(Conv2D(128, (3, 3)))\n",
        "vgg.add(Activation('relu'))\n",
        "vgg.add(BatchNormalization())\n",
        "vgg.add(MaxPooling2D(pool_size=(2, 2)))\n",
        "vgg.add(Dropout(0.25))\n",
        "\n",
        "\n",
        "vgg.add(Flatten())\n",
        "vgg.add(Dense(512,kernel_regularizer = l2(0.01)))\n",
        "vgg.add(Activation('relu'))\n",
        "vgg.add(Dropout(0.5))\n",
        "vgg.add(Dense(num_classes))\n",
        "vgg.add(Activation('softmax'))"
      ],
      "metadata": {
        "id": "UrvBORozbEUz"
      },
      "execution_count": null,
      "outputs": []
    },
    {
      "cell_type": "code",
      "source": [
        "vgg.compile(loss='categorical_crossentropy',\n",
        "              optimizer='adam',\n",
        "              metrics=['accuracy'])"
      ],
      "metadata": {
        "id": "0oxgInlhbbAs"
      },
      "execution_count": null,
      "outputs": []
    },
    {
      "cell_type": "code",
      "source": [
        "print(vgg.summary)"
      ],
      "metadata": {
        "colab": {
          "base_uri": "https://localhost:8080/"
        },
        "id": "XZwSq99QbcO2",
        "outputId": "24eb7206-6c62-4298-88e3-fb0465f3977c"
      },
      "execution_count": null,
      "outputs": [
        {
          "output_type": "stream",
          "name": "stdout",
          "text": [
            "<bound method Model.summary of <keras.engine.sequential.Sequential object at 0x7fecd409fa10>>\n"
          ]
        }
      ]
    },
    {
      "cell_type": "code",
      "source": [
        "VGG16 = vgg.fit(x_train, y_train_one_hot,\n",
        "          batch_size=batch_size,epochs=epochs,\n",
        "          validation_data=(x_test, y_test_one_hot),\n",
        "          shuffle=True)"
      ],
      "metadata": {
        "colab": {
          "base_uri": "https://localhost:8080/"
        },
        "id": "vB7UbPyZbegE",
        "outputId": "b393748e-d9c4-4e75-83ff-df54b08d4404"
      },
      "execution_count": null,
      "outputs": [
        {
          "output_type": "stream",
          "name": "stdout",
          "text": [
            "Epoch 1/50\n",
            "1563/1563 [==============================] - 29s 17ms/step - loss: 2.5566 - accuracy: 0.4639 - val_loss: 1.3449 - val_accuracy: 0.6023\n",
            "Epoch 2/50\n",
            "1563/1563 [==============================] - 26s 17ms/step - loss: 1.3021 - accuracy: 0.6213 - val_loss: 1.1896 - val_accuracy: 0.6651\n",
            "Epoch 3/50\n",
            "1563/1563 [==============================] - 26s 17ms/step - loss: 1.1572 - accuracy: 0.6823 - val_loss: 1.2634 - val_accuracy: 0.6452\n",
            "Epoch 4/50\n",
            "1563/1563 [==============================] - 26s 17ms/step - loss: 1.0643 - accuracy: 0.7200 - val_loss: 0.9738 - val_accuracy: 0.7529\n",
            "Epoch 5/50\n",
            "1563/1563 [==============================] - 26s 17ms/step - loss: 1.0075 - accuracy: 0.7422 - val_loss: 0.9116 - val_accuracy: 0.7685\n",
            "Epoch 6/50\n",
            "1563/1563 [==============================] - 25s 16ms/step - loss: 0.9593 - accuracy: 0.7612 - val_loss: 0.8711 - val_accuracy: 0.7890\n",
            "Epoch 7/50\n",
            "1563/1563 [==============================] - 26s 17ms/step - loss: 0.9236 - accuracy: 0.7744 - val_loss: 0.8926 - val_accuracy: 0.7872\n",
            "Epoch 8/50\n",
            "1563/1563 [==============================] - 26s 17ms/step - loss: 0.8856 - accuracy: 0.7873 - val_loss: 0.8467 - val_accuracy: 0.8028\n",
            "Epoch 9/50\n",
            "1563/1563 [==============================] - 26s 17ms/step - loss: 0.8586 - accuracy: 0.7971 - val_loss: 0.8426 - val_accuracy: 0.8049\n",
            "Epoch 10/50\n",
            "1563/1563 [==============================] - 26s 17ms/step - loss: 0.8476 - accuracy: 0.8008 - val_loss: 0.8430 - val_accuracy: 0.8012\n",
            "Epoch 11/50\n",
            "1563/1563 [==============================] - 26s 17ms/step - loss: 0.8172 - accuracy: 0.8122 - val_loss: 0.8073 - val_accuracy: 0.8205\n",
            "Epoch 12/50\n",
            "1563/1563 [==============================] - 25s 16ms/step - loss: 0.8020 - accuracy: 0.8153 - val_loss: 0.8165 - val_accuracy: 0.8160\n",
            "Epoch 13/50\n",
            "1563/1563 [==============================] - 26s 17ms/step - loss: 0.7814 - accuracy: 0.8237 - val_loss: 0.8012 - val_accuracy: 0.8184\n",
            "Epoch 14/50\n",
            "1563/1563 [==============================] - 25s 16ms/step - loss: 0.7663 - accuracy: 0.8285 - val_loss: 0.7888 - val_accuracy: 0.8202\n",
            "Epoch 15/50\n",
            "1563/1563 [==============================] - 26s 17ms/step - loss: 0.7609 - accuracy: 0.8314 - val_loss: 0.8229 - val_accuracy: 0.8122\n",
            "Epoch 16/50\n",
            "1563/1563 [==============================] - 27s 17ms/step - loss: 0.7443 - accuracy: 0.8348 - val_loss: 0.7770 - val_accuracy: 0.8269\n",
            "Epoch 17/50\n",
            "1563/1563 [==============================] - 25s 16ms/step - loss: 0.7283 - accuracy: 0.8418 - val_loss: 0.7621 - val_accuracy: 0.8313\n",
            "Epoch 18/50\n",
            "1563/1563 [==============================] - 26s 17ms/step - loss: 0.7191 - accuracy: 0.8435 - val_loss: 0.7564 - val_accuracy: 0.8314\n",
            "Epoch 19/50\n",
            "1563/1563 [==============================] - 26s 17ms/step - loss: 0.7100 - accuracy: 0.8445 - val_loss: 0.7741 - val_accuracy: 0.8340\n",
            "Epoch 20/50\n",
            "1563/1563 [==============================] - 26s 17ms/step - loss: 0.7045 - accuracy: 0.8481 - val_loss: 0.7853 - val_accuracy: 0.8248\n",
            "Epoch 21/50\n",
            "1563/1563 [==============================] - 26s 17ms/step - loss: 0.6925 - accuracy: 0.8515 - val_loss: 0.8069 - val_accuracy: 0.8216\n",
            "Epoch 22/50\n",
            "1563/1563 [==============================] - 25s 16ms/step - loss: 0.6758 - accuracy: 0.8579 - val_loss: 0.7530 - val_accuracy: 0.8338\n",
            "Epoch 23/50\n",
            "1563/1563 [==============================] - 25s 16ms/step - loss: 0.6682 - accuracy: 0.8599 - val_loss: 0.7448 - val_accuracy: 0.8410\n",
            "Epoch 24/50\n",
            "1563/1563 [==============================] - 25s 16ms/step - loss: 0.6586 - accuracy: 0.8604 - val_loss: 0.7485 - val_accuracy: 0.8402\n",
            "Epoch 25/50\n",
            "1563/1563 [==============================] - 26s 17ms/step - loss: 0.6579 - accuracy: 0.8639 - val_loss: 0.7497 - val_accuracy: 0.8373\n",
            "Epoch 26/50\n",
            "1563/1563 [==============================] - 26s 16ms/step - loss: 0.6469 - accuracy: 0.8671 - val_loss: 0.7949 - val_accuracy: 0.8214\n",
            "Epoch 27/50\n",
            "1563/1563 [==============================] - 26s 16ms/step - loss: 0.6374 - accuracy: 0.8689 - val_loss: 0.7942 - val_accuracy: 0.8279\n",
            "Epoch 28/50\n",
            "1563/1563 [==============================] - 26s 16ms/step - loss: 0.6397 - accuracy: 0.8681 - val_loss: 0.7864 - val_accuracy: 0.8355\n",
            "Epoch 29/50\n",
            "1563/1563 [==============================] - 26s 17ms/step - loss: 0.6348 - accuracy: 0.8707 - val_loss: 0.7462 - val_accuracy: 0.8422\n",
            "Epoch 30/50\n",
            "1563/1563 [==============================] - 26s 17ms/step - loss: 0.6221 - accuracy: 0.8717 - val_loss: 0.7565 - val_accuracy: 0.8376\n",
            "Epoch 31/50\n",
            "1563/1563 [==============================] - 26s 17ms/step - loss: 0.6112 - accuracy: 0.8761 - val_loss: 0.7436 - val_accuracy: 0.8456\n",
            "Epoch 32/50\n",
            "1563/1563 [==============================] - 26s 16ms/step - loss: 0.6105 - accuracy: 0.8794 - val_loss: 0.7536 - val_accuracy: 0.8412\n",
            "Epoch 33/50\n",
            "1563/1563 [==============================] - 24s 16ms/step - loss: 0.6032 - accuracy: 0.8810 - val_loss: 0.7375 - val_accuracy: 0.8457\n",
            "Epoch 34/50\n",
            "1563/1563 [==============================] - 24s 16ms/step - loss: 0.5966 - accuracy: 0.8804 - val_loss: 0.7192 - val_accuracy: 0.8493\n",
            "Epoch 35/50\n",
            "1563/1563 [==============================] - 26s 16ms/step - loss: 0.5932 - accuracy: 0.8827 - val_loss: 0.7232 - val_accuracy: 0.8468\n",
            "Epoch 36/50\n",
            "1563/1563 [==============================] - 26s 17ms/step - loss: 0.5903 - accuracy: 0.8847 - val_loss: 0.7244 - val_accuracy: 0.8528\n",
            "Epoch 37/50\n",
            "1563/1563 [==============================] - 25s 16ms/step - loss: 0.5860 - accuracy: 0.8828 - val_loss: 0.7431 - val_accuracy: 0.8459\n",
            "Epoch 38/50\n",
            "1563/1563 [==============================] - 25s 16ms/step - loss: 0.5801 - accuracy: 0.8872 - val_loss: 0.7122 - val_accuracy: 0.8493\n",
            "Epoch 39/50\n",
            "1563/1563 [==============================] - 25s 16ms/step - loss: 0.5858 - accuracy: 0.8857 - val_loss: 0.7440 - val_accuracy: 0.8432\n",
            "Epoch 40/50\n",
            "1563/1563 [==============================] - 26s 16ms/step - loss: 0.5757 - accuracy: 0.8873 - val_loss: 0.7258 - val_accuracy: 0.8458\n",
            "Epoch 41/50\n",
            "1563/1563 [==============================] - 26s 17ms/step - loss: 0.5718 - accuracy: 0.8907 - val_loss: 0.7086 - val_accuracy: 0.8529\n",
            "Epoch 42/50\n",
            "1563/1563 [==============================] - 26s 17ms/step - loss: 0.5672 - accuracy: 0.8899 - val_loss: 0.7390 - val_accuracy: 0.8486\n",
            "Epoch 43/50\n",
            "1563/1563 [==============================] - 25s 16ms/step - loss: 0.5616 - accuracy: 0.8925 - val_loss: 0.7271 - val_accuracy: 0.8486\n",
            "Epoch 44/50\n",
            "1563/1563 [==============================] - 26s 16ms/step - loss: 0.5580 - accuracy: 0.8930 - val_loss: 0.7561 - val_accuracy: 0.8391\n",
            "Epoch 45/50\n",
            "1563/1563 [==============================] - 26s 17ms/step - loss: 0.5553 - accuracy: 0.8937 - val_loss: 0.7335 - val_accuracy: 0.8490\n",
            "Epoch 46/50\n",
            "1563/1563 [==============================] - 25s 16ms/step - loss: 0.5557 - accuracy: 0.8938 - val_loss: 0.7128 - val_accuracy: 0.8538\n",
            "Epoch 47/50\n",
            "1563/1563 [==============================] - 25s 16ms/step - loss: 0.5557 - accuracy: 0.8947 - val_loss: 0.7531 - val_accuracy: 0.8367\n",
            "Epoch 48/50\n",
            "1563/1563 [==============================] - 25s 16ms/step - loss: 0.5503 - accuracy: 0.8971 - val_loss: 0.7361 - val_accuracy: 0.8493\n",
            "Epoch 49/50\n",
            "1563/1563 [==============================] - 26s 16ms/step - loss: 0.5505 - accuracy: 0.8956 - val_loss: 0.7446 - val_accuracy: 0.8453\n",
            "Epoch 50/50\n",
            "1563/1563 [==============================] - 26s 17ms/step - loss: 0.5475 - accuracy: 0.8976 - val_loss: 0.7509 - val_accuracy: 0.8450\n"
          ]
        }
      ]
    },
    {
      "cell_type": "code",
      "source": [
        "Measures = VGG16.history"
      ],
      "metadata": {
        "id": "gjzPJ9jGdwCA"
      },
      "execution_count": null,
      "outputs": []
    },
    {
      "cell_type": "code",
      "source": [
        "Measures.keys()"
      ],
      "metadata": {
        "colab": {
          "base_uri": "https://localhost:8080/"
        },
        "id": "i2Omkbm7lb1f",
        "outputId": "5494181d-c583-46cb-cde9-96ec2de9f11b"
      },
      "execution_count": null,
      "outputs": [
        {
          "output_type": "execute_result",
          "data": {
            "text/plain": [
              "dict_keys(['loss', 'accuracy', 'val_loss', 'val_accuracy'])"
            ]
          },
          "metadata": {},
          "execution_count": 139
        }
      ]
    },
    {
      "cell_type": "code",
      "source": [
        "type(Measures)"
      ],
      "metadata": {
        "colab": {
          "base_uri": "https://localhost:8080/"
        },
        "id": "ndU4EhHoko9p",
        "outputId": "d853414c-2e83-4787-8f40-dde82bf490b9"
      },
      "execution_count": null,
      "outputs": [
        {
          "output_type": "execute_result",
          "data": {
            "text/plain": [
              "dict"
            ]
          },
          "metadata": {},
          "execution_count": 125
        }
      ]
    },
    {
      "cell_type": "code",
      "source": [
        "epochs_df = list(range(1,51))\n",
        "print(epochs_df)"
      ],
      "metadata": {
        "colab": {
          "base_uri": "https://localhost:8080/"
        },
        "id": "LjoqXD7gnJUu",
        "outputId": "fe99023c-7261-447d-ff1d-2ba1683c9fe7"
      },
      "execution_count": null,
      "outputs": [
        {
          "output_type": "stream",
          "name": "stdout",
          "text": [
            "[1, 2, 3, 4, 5, 6, 7, 8, 9, 10, 11, 12, 13, 14, 15, 16, 17, 18, 19, 20, 21, 22, 23, 24, 25, 26, 27, 28, 29, 30, 31, 32, 33, 34, 35, 36, 37, 38, 39, 40, 41, 42, 43, 44, 45, 46, 47, 48, 49, 50]\n"
          ]
        }
      ]
    },
    {
      "cell_type": "code",
      "source": [
        "import pandas as pd\n",
        "VGG16_Metrics = pd.DataFrame(epochs_df,columns=['Epochs'])"
      ],
      "metadata": {
        "id": "0EYOSUWxksfU"
      },
      "execution_count": null,
      "outputs": []
    },
    {
      "cell_type": "code",
      "source": [
        "VGG16_Metrics['Training_Loss'] = Measures['loss']\n",
        "VGG16_Metrics['Training_Accuracy'] = Measures['accuracy']\n",
        "VGG16_Metrics['Val_loss'] = Measures['val_loss']\n",
        "VGG16_Metrics['Val_accuracy'] = Measures['val_accuracy']"
      ],
      "metadata": {
        "id": "P4R10vmTlrs3"
      },
      "execution_count": null,
      "outputs": []
    },
    {
      "cell_type": "code",
      "source": [
        "VGG16_Metrics.head()"
      ],
      "metadata": {
        "colab": {
          "base_uri": "https://localhost:8080/",
          "height": 206
        },
        "id": "A-kVrLD6nwHZ",
        "outputId": "ac944054-d934-45a8-f174-74fcc80e0d8d"
      },
      "execution_count": null,
      "outputs": [
        {
          "output_type": "execute_result",
          "data": {
            "text/plain": [
              "   Epochs  Training_Loss  Training_Accuracy  Val_loss  Val_accuracy\n",
              "0       1       2.556554            0.46390  1.344919        0.6023\n",
              "1       2       1.302073            0.62128  1.189622        0.6651\n",
              "2       3       1.157215            0.68232  1.263371        0.6452\n",
              "3       4       1.064323            0.72000  0.973832        0.7529\n",
              "4       5       1.007547            0.74216  0.911576        0.7685"
            ],
            "text/html": [
              "\n",
              "  <div id=\"df-6e0c836d-fe66-479b-986d-7f971b633a8f\">\n",
              "    <div class=\"colab-df-container\">\n",
              "      <div>\n",
              "<style scoped>\n",
              "    .dataframe tbody tr th:only-of-type {\n",
              "        vertical-align: middle;\n",
              "    }\n",
              "\n",
              "    .dataframe tbody tr th {\n",
              "        vertical-align: top;\n",
              "    }\n",
              "\n",
              "    .dataframe thead th {\n",
              "        text-align: right;\n",
              "    }\n",
              "</style>\n",
              "<table border=\"1\" class=\"dataframe\">\n",
              "  <thead>\n",
              "    <tr style=\"text-align: right;\">\n",
              "      <th></th>\n",
              "      <th>Epochs</th>\n",
              "      <th>Training_Loss</th>\n",
              "      <th>Training_Accuracy</th>\n",
              "      <th>Val_loss</th>\n",
              "      <th>Val_accuracy</th>\n",
              "    </tr>\n",
              "  </thead>\n",
              "  <tbody>\n",
              "    <tr>\n",
              "      <th>0</th>\n",
              "      <td>1</td>\n",
              "      <td>2.556554</td>\n",
              "      <td>0.46390</td>\n",
              "      <td>1.344919</td>\n",
              "      <td>0.6023</td>\n",
              "    </tr>\n",
              "    <tr>\n",
              "      <th>1</th>\n",
              "      <td>2</td>\n",
              "      <td>1.302073</td>\n",
              "      <td>0.62128</td>\n",
              "      <td>1.189622</td>\n",
              "      <td>0.6651</td>\n",
              "    </tr>\n",
              "    <tr>\n",
              "      <th>2</th>\n",
              "      <td>3</td>\n",
              "      <td>1.157215</td>\n",
              "      <td>0.68232</td>\n",
              "      <td>1.263371</td>\n",
              "      <td>0.6452</td>\n",
              "    </tr>\n",
              "    <tr>\n",
              "      <th>3</th>\n",
              "      <td>4</td>\n",
              "      <td>1.064323</td>\n",
              "      <td>0.72000</td>\n",
              "      <td>0.973832</td>\n",
              "      <td>0.7529</td>\n",
              "    </tr>\n",
              "    <tr>\n",
              "      <th>4</th>\n",
              "      <td>5</td>\n",
              "      <td>1.007547</td>\n",
              "      <td>0.74216</td>\n",
              "      <td>0.911576</td>\n",
              "      <td>0.7685</td>\n",
              "    </tr>\n",
              "  </tbody>\n",
              "</table>\n",
              "</div>\n",
              "      <button class=\"colab-df-convert\" onclick=\"convertToInteractive('df-6e0c836d-fe66-479b-986d-7f971b633a8f')\"\n",
              "              title=\"Convert this dataframe to an interactive table.\"\n",
              "              style=\"display:none;\">\n",
              "        \n",
              "  <svg xmlns=\"http://www.w3.org/2000/svg\" height=\"24px\"viewBox=\"0 0 24 24\"\n",
              "       width=\"24px\">\n",
              "    <path d=\"M0 0h24v24H0V0z\" fill=\"none\"/>\n",
              "    <path d=\"M18.56 5.44l.94 2.06.94-2.06 2.06-.94-2.06-.94-.94-2.06-.94 2.06-2.06.94zm-11 1L8.5 8.5l.94-2.06 2.06-.94-2.06-.94L8.5 2.5l-.94 2.06-2.06.94zm10 10l.94 2.06.94-2.06 2.06-.94-2.06-.94-.94-2.06-.94 2.06-2.06.94z\"/><path d=\"M17.41 7.96l-1.37-1.37c-.4-.4-.92-.59-1.43-.59-.52 0-1.04.2-1.43.59L10.3 9.45l-7.72 7.72c-.78.78-.78 2.05 0 2.83L4 21.41c.39.39.9.59 1.41.59.51 0 1.02-.2 1.41-.59l7.78-7.78 2.81-2.81c.8-.78.8-2.07 0-2.86zM5.41 20L4 18.59l7.72-7.72 1.47 1.35L5.41 20z\"/>\n",
              "  </svg>\n",
              "      </button>\n",
              "      \n",
              "  <style>\n",
              "    .colab-df-container {\n",
              "      display:flex;\n",
              "      flex-wrap:wrap;\n",
              "      gap: 12px;\n",
              "    }\n",
              "\n",
              "    .colab-df-convert {\n",
              "      background-color: #E8F0FE;\n",
              "      border: none;\n",
              "      border-radius: 50%;\n",
              "      cursor: pointer;\n",
              "      display: none;\n",
              "      fill: #1967D2;\n",
              "      height: 32px;\n",
              "      padding: 0 0 0 0;\n",
              "      width: 32px;\n",
              "    }\n",
              "\n",
              "    .colab-df-convert:hover {\n",
              "      background-color: #E2EBFA;\n",
              "      box-shadow: 0px 1px 2px rgba(60, 64, 67, 0.3), 0px 1px 3px 1px rgba(60, 64, 67, 0.15);\n",
              "      fill: #174EA6;\n",
              "    }\n",
              "\n",
              "    [theme=dark] .colab-df-convert {\n",
              "      background-color: #3B4455;\n",
              "      fill: #D2E3FC;\n",
              "    }\n",
              "\n",
              "    [theme=dark] .colab-df-convert:hover {\n",
              "      background-color: #434B5C;\n",
              "      box-shadow: 0px 1px 3px 1px rgba(0, 0, 0, 0.15);\n",
              "      filter: drop-shadow(0px 1px 2px rgba(0, 0, 0, 0.3));\n",
              "      fill: #FFFFFF;\n",
              "    }\n",
              "  </style>\n",
              "\n",
              "      <script>\n",
              "        const buttonEl =\n",
              "          document.querySelector('#df-6e0c836d-fe66-479b-986d-7f971b633a8f button.colab-df-convert');\n",
              "        buttonEl.style.display =\n",
              "          google.colab.kernel.accessAllowed ? 'block' : 'none';\n",
              "\n",
              "        async function convertToInteractive(key) {\n",
              "          const element = document.querySelector('#df-6e0c836d-fe66-479b-986d-7f971b633a8f');\n",
              "          const dataTable =\n",
              "            await google.colab.kernel.invokeFunction('convertToInteractive',\n",
              "                                                     [key], {});\n",
              "          if (!dataTable) return;\n",
              "\n",
              "          const docLinkHtml = 'Like what you see? Visit the ' +\n",
              "            '<a target=\"_blank\" href=https://colab.research.google.com/notebooks/data_table.ipynb>data table notebook</a>'\n",
              "            + ' to learn more about interactive tables.';\n",
              "          element.innerHTML = '';\n",
              "          dataTable['output_type'] = 'display_data';\n",
              "          await google.colab.output.renderOutput(dataTable, element);\n",
              "          const docLink = document.createElement('div');\n",
              "          docLink.innerHTML = docLinkHtml;\n",
              "          element.appendChild(docLink);\n",
              "        }\n",
              "      </script>\n",
              "    </div>\n",
              "  </div>\n",
              "  "
            ]
          },
          "metadata": {},
          "execution_count": 149
        }
      ]
    },
    {
      "cell_type": "code",
      "source": [
        "fig_acc = px.line(VGG16_Metrics,x='Epochs',y='Training_Accuracy',template='ggplot2',labels={'Training_Accuracy':'Training Accuracy'})\n",
        "fig_acc.add_scatter(x=VGG16_Metrics['Epochs'],y=VGG16_Metrics['Val_accuracy'],mode='lines',name='Validation accuracy')"
      ],
      "metadata": {
        "colab": {
          "base_uri": "https://localhost:8080/",
          "height": 542
        },
        "id": "sGCEyv77n0hX",
        "outputId": "7eb8f082-9f91-4908-d7a2-2315cc96ce22"
      },
      "execution_count": null,
      "outputs": [
        {
          "output_type": "display_data",
          "data": {
            "text/html": [
              "<html>\n",
              "<head><meta charset=\"utf-8\" /></head>\n",
              "<body>\n",
              "    <div>            <script src=\"https://cdnjs.cloudflare.com/ajax/libs/mathjax/2.7.5/MathJax.js?config=TeX-AMS-MML_SVG\"></script><script type=\"text/javascript\">if (window.MathJax) {MathJax.Hub.Config({SVG: {font: \"STIX-Web\"}});}</script>                <script type=\"text/javascript\">window.PlotlyConfig = {MathJaxConfig: 'local'};</script>\n",
              "        <script src=\"https://cdn.plot.ly/plotly-2.8.3.min.js\"></script>                <div id=\"ebf6c8de-6483-4f30-9f16-7b7af5c4aaea\" class=\"plotly-graph-div\" style=\"height:525px; width:100%;\"></div>            <script type=\"text/javascript\">                                    window.PLOTLYENV=window.PLOTLYENV || {};                                    if (document.getElementById(\"ebf6c8de-6483-4f30-9f16-7b7af5c4aaea\")) {                    Plotly.newPlot(                        \"ebf6c8de-6483-4f30-9f16-7b7af5c4aaea\",                        [{\"hovertemplate\":\"Epochs=%{x}<br>Training Accuracy=%{y}<extra></extra>\",\"legendgroup\":\"\",\"line\":{\"color\":\"#F8766D\",\"dash\":\"solid\"},\"marker\":{\"symbol\":\"circle\"},\"mode\":\"lines\",\"name\":\"\",\"orientation\":\"v\",\"showlegend\":false,\"x\":[1,2,3,4,5,6,7,8,9,10,11,12,13,14,15,16,17,18,19,20,21,22,23,24,25,26,27,28,29,30,31,32,33,34,35,36,37,38,39,40,41,42,43,44,45,46,47,48,49,50],\"xaxis\":\"x\",\"y\":[0.46389999985694885,0.6212800145149231,0.6823199987411499,0.7200000286102295,0.7421600222587585,0.7611799836158752,0.7744200229644775,0.7872599959373474,0.7971000075340271,0.8007799983024597,0.8122000098228455,0.8153200149536133,0.8237400054931641,0.8284800052642822,0.8313999772071838,0.8347799777984619,0.8418200016021729,0.843500018119812,0.8444799780845642,0.8481000065803528,0.8515400290489197,0.8579400181770325,0.8599399924278259,0.8603600263595581,0.8639400005340576,0.8671000003814697,0.8689000010490417,0.8680800199508667,0.8707000017166138,0.8716599941253662,0.8761199712753296,0.879360020160675,0.8809599876403809,0.8804000020027161,0.8827400207519531,0.8847000002861023,0.8827800154685974,0.8872399926185608,0.8857399821281433,0.8872799873352051,0.8906800150871277,0.8898800015449524,0.892520010471344,0.89301997423172,0.8937399983406067,0.8938400149345398,0.8946800231933594,0.8970999717712402,0.8956400156021118,0.8976399898529053],\"yaxis\":\"y\",\"type\":\"scatter\"},{\"mode\":\"lines\",\"name\":\"Validation accuracy\",\"x\":[1,2,3,4,5,6,7,8,9,10,11,12,13,14,15,16,17,18,19,20,21,22,23,24,25,26,27,28,29,30,31,32,33,34,35,36,37,38,39,40,41,42,43,44,45,46,47,48,49,50],\"y\":[0.6022999882698059,0.6650999784469604,0.6452000141143799,0.7529000043869019,0.7684999704360962,0.7889999747276306,0.7871999740600586,0.8027999997138977,0.8048999905586243,0.8011999726295471,0.8205000162124634,0.8159999847412109,0.8184000253677368,0.8202000260353088,0.8122000098228455,0.8269000053405762,0.8313000202178955,0.8313999772071838,0.8339999914169312,0.8248000144958496,0.8216000199317932,0.8338000178337097,0.8410000205039978,0.8402000069618225,0.8373000025749207,0.821399986743927,0.8278999924659729,0.8355000019073486,0.842199981212616,0.8375999927520752,0.8456000089645386,0.8411999940872192,0.8457000255584717,0.8493000268936157,0.8468000292778015,0.8528000116348267,0.8458999991416931,0.8493000268936157,0.8432000279426575,0.84579998254776,0.8529000282287598,0.8485999703407288,0.8485999703407288,0.8391000032424927,0.8489999771118164,0.8537999987602234,0.8367000222206116,0.8493000268936157,0.845300018787384,0.8450000286102295],\"type\":\"scatter\"}],                        {\"template\":{\"data\":{\"barpolar\":[{\"marker\":{\"line\":{\"color\":\"rgb(237,237,237)\",\"width\":0.5},\"pattern\":{\"fillmode\":\"overlay\",\"size\":10,\"solidity\":0.2}},\"type\":\"barpolar\"}],\"bar\":[{\"error_x\":{\"color\":\"rgb(51,51,51)\"},\"error_y\":{\"color\":\"rgb(51,51,51)\"},\"marker\":{\"line\":{\"color\":\"rgb(237,237,237)\",\"width\":0.5},\"pattern\":{\"fillmode\":\"overlay\",\"size\":10,\"solidity\":0.2}},\"type\":\"bar\"}],\"carpet\":[{\"aaxis\":{\"endlinecolor\":\"rgb(51,51,51)\",\"gridcolor\":\"white\",\"linecolor\":\"white\",\"minorgridcolor\":\"white\",\"startlinecolor\":\"rgb(51,51,51)\"},\"baxis\":{\"endlinecolor\":\"rgb(51,51,51)\",\"gridcolor\":\"white\",\"linecolor\":\"white\",\"minorgridcolor\":\"white\",\"startlinecolor\":\"rgb(51,51,51)\"},\"type\":\"carpet\"}],\"choropleth\":[{\"colorbar\":{\"outlinewidth\":0,\"tickcolor\":\"rgb(237,237,237)\",\"ticklen\":6,\"ticks\":\"inside\"},\"type\":\"choropleth\"}],\"contourcarpet\":[{\"colorbar\":{\"outlinewidth\":0,\"tickcolor\":\"rgb(237,237,237)\",\"ticklen\":6,\"ticks\":\"inside\"},\"type\":\"contourcarpet\"}],\"contour\":[{\"colorbar\":{\"outlinewidth\":0,\"tickcolor\":\"rgb(237,237,237)\",\"ticklen\":6,\"ticks\":\"inside\"},\"colorscale\":[[0,\"rgb(20,44,66)\"],[1,\"rgb(90,179,244)\"]],\"type\":\"contour\"}],\"heatmapgl\":[{\"colorbar\":{\"outlinewidth\":0,\"tickcolor\":\"rgb(237,237,237)\",\"ticklen\":6,\"ticks\":\"inside\"},\"colorscale\":[[0,\"rgb(20,44,66)\"],[1,\"rgb(90,179,244)\"]],\"type\":\"heatmapgl\"}],\"heatmap\":[{\"colorbar\":{\"outlinewidth\":0,\"tickcolor\":\"rgb(237,237,237)\",\"ticklen\":6,\"ticks\":\"inside\"},\"colorscale\":[[0,\"rgb(20,44,66)\"],[1,\"rgb(90,179,244)\"]],\"type\":\"heatmap\"}],\"histogram2dcontour\":[{\"colorbar\":{\"outlinewidth\":0,\"tickcolor\":\"rgb(237,237,237)\",\"ticklen\":6,\"ticks\":\"inside\"},\"colorscale\":[[0,\"rgb(20,44,66)\"],[1,\"rgb(90,179,244)\"]],\"type\":\"histogram2dcontour\"}],\"histogram2d\":[{\"colorbar\":{\"outlinewidth\":0,\"tickcolor\":\"rgb(237,237,237)\",\"ticklen\":6,\"ticks\":\"inside\"},\"colorscale\":[[0,\"rgb(20,44,66)\"],[1,\"rgb(90,179,244)\"]],\"type\":\"histogram2d\"}],\"histogram\":[{\"marker\":{\"pattern\":{\"fillmode\":\"overlay\",\"size\":10,\"solidity\":0.2}},\"type\":\"histogram\"}],\"mesh3d\":[{\"colorbar\":{\"outlinewidth\":0,\"tickcolor\":\"rgb(237,237,237)\",\"ticklen\":6,\"ticks\":\"inside\"},\"type\":\"mesh3d\"}],\"parcoords\":[{\"line\":{\"colorbar\":{\"outlinewidth\":0,\"tickcolor\":\"rgb(237,237,237)\",\"ticklen\":6,\"ticks\":\"inside\"}},\"type\":\"parcoords\"}],\"pie\":[{\"automargin\":true,\"type\":\"pie\"}],\"scatter3d\":[{\"line\":{\"colorbar\":{\"outlinewidth\":0,\"tickcolor\":\"rgb(237,237,237)\",\"ticklen\":6,\"ticks\":\"inside\"}},\"marker\":{\"colorbar\":{\"outlinewidth\":0,\"tickcolor\":\"rgb(237,237,237)\",\"ticklen\":6,\"ticks\":\"inside\"}},\"type\":\"scatter3d\"}],\"scattercarpet\":[{\"marker\":{\"colorbar\":{\"outlinewidth\":0,\"tickcolor\":\"rgb(237,237,237)\",\"ticklen\":6,\"ticks\":\"inside\"}},\"type\":\"scattercarpet\"}],\"scattergeo\":[{\"marker\":{\"colorbar\":{\"outlinewidth\":0,\"tickcolor\":\"rgb(237,237,237)\",\"ticklen\":6,\"ticks\":\"inside\"}},\"type\":\"scattergeo\"}],\"scattergl\":[{\"marker\":{\"colorbar\":{\"outlinewidth\":0,\"tickcolor\":\"rgb(237,237,237)\",\"ticklen\":6,\"ticks\":\"inside\"}},\"type\":\"scattergl\"}],\"scattermapbox\":[{\"marker\":{\"colorbar\":{\"outlinewidth\":0,\"tickcolor\":\"rgb(237,237,237)\",\"ticklen\":6,\"ticks\":\"inside\"}},\"type\":\"scattermapbox\"}],\"scatterpolargl\":[{\"marker\":{\"colorbar\":{\"outlinewidth\":0,\"tickcolor\":\"rgb(237,237,237)\",\"ticklen\":6,\"ticks\":\"inside\"}},\"type\":\"scatterpolargl\"}],\"scatterpolar\":[{\"marker\":{\"colorbar\":{\"outlinewidth\":0,\"tickcolor\":\"rgb(237,237,237)\",\"ticklen\":6,\"ticks\":\"inside\"}},\"type\":\"scatterpolar\"}],\"scatter\":[{\"marker\":{\"colorbar\":{\"outlinewidth\":0,\"tickcolor\":\"rgb(237,237,237)\",\"ticklen\":6,\"ticks\":\"inside\"}},\"type\":\"scatter\"}],\"scatterternary\":[{\"marker\":{\"colorbar\":{\"outlinewidth\":0,\"tickcolor\":\"rgb(237,237,237)\",\"ticklen\":6,\"ticks\":\"inside\"}},\"type\":\"scatterternary\"}],\"surface\":[{\"colorbar\":{\"outlinewidth\":0,\"tickcolor\":\"rgb(237,237,237)\",\"ticklen\":6,\"ticks\":\"inside\"},\"colorscale\":[[0,\"rgb(20,44,66)\"],[1,\"rgb(90,179,244)\"]],\"type\":\"surface\"}],\"table\":[{\"cells\":{\"fill\":{\"color\":\"rgb(237,237,237)\"},\"line\":{\"color\":\"white\"}},\"header\":{\"fill\":{\"color\":\"rgb(217,217,217)\"},\"line\":{\"color\":\"white\"}},\"type\":\"table\"}]},\"layout\":{\"annotationdefaults\":{\"arrowhead\":0,\"arrowwidth\":1},\"autotypenumbers\":\"strict\",\"coloraxis\":{\"colorbar\":{\"outlinewidth\":0,\"tickcolor\":\"rgb(237,237,237)\",\"ticklen\":6,\"ticks\":\"inside\"}},\"colorscale\":{\"sequential\":[[0,\"rgb(20,44,66)\"],[1,\"rgb(90,179,244)\"]],\"sequentialminus\":[[0,\"rgb(20,44,66)\"],[1,\"rgb(90,179,244)\"]]},\"colorway\":[\"#F8766D\",\"#A3A500\",\"#00BF7D\",\"#00B0F6\",\"#E76BF3\"],\"font\":{\"color\":\"rgb(51,51,51)\"},\"geo\":{\"bgcolor\":\"white\",\"lakecolor\":\"white\",\"landcolor\":\"rgb(237,237,237)\",\"showlakes\":true,\"showland\":true,\"subunitcolor\":\"white\"},\"hoverlabel\":{\"align\":\"left\"},\"hovermode\":\"closest\",\"paper_bgcolor\":\"white\",\"plot_bgcolor\":\"rgb(237,237,237)\",\"polar\":{\"angularaxis\":{\"gridcolor\":\"white\",\"linecolor\":\"white\",\"showgrid\":true,\"tickcolor\":\"rgb(51,51,51)\",\"ticks\":\"outside\"},\"bgcolor\":\"rgb(237,237,237)\",\"radialaxis\":{\"gridcolor\":\"white\",\"linecolor\":\"white\",\"showgrid\":true,\"tickcolor\":\"rgb(51,51,51)\",\"ticks\":\"outside\"}},\"scene\":{\"xaxis\":{\"backgroundcolor\":\"rgb(237,237,237)\",\"gridcolor\":\"white\",\"gridwidth\":2,\"linecolor\":\"white\",\"showbackground\":true,\"showgrid\":true,\"tickcolor\":\"rgb(51,51,51)\",\"ticks\":\"outside\",\"zerolinecolor\":\"white\"},\"yaxis\":{\"backgroundcolor\":\"rgb(237,237,237)\",\"gridcolor\":\"white\",\"gridwidth\":2,\"linecolor\":\"white\",\"showbackground\":true,\"showgrid\":true,\"tickcolor\":\"rgb(51,51,51)\",\"ticks\":\"outside\",\"zerolinecolor\":\"white\"},\"zaxis\":{\"backgroundcolor\":\"rgb(237,237,237)\",\"gridcolor\":\"white\",\"gridwidth\":2,\"linecolor\":\"white\",\"showbackground\":true,\"showgrid\":true,\"tickcolor\":\"rgb(51,51,51)\",\"ticks\":\"outside\",\"zerolinecolor\":\"white\"}},\"shapedefaults\":{\"fillcolor\":\"black\",\"line\":{\"width\":0},\"opacity\":0.3},\"ternary\":{\"aaxis\":{\"gridcolor\":\"white\",\"linecolor\":\"white\",\"showgrid\":true,\"tickcolor\":\"rgb(51,51,51)\",\"ticks\":\"outside\"},\"baxis\":{\"gridcolor\":\"white\",\"linecolor\":\"white\",\"showgrid\":true,\"tickcolor\":\"rgb(51,51,51)\",\"ticks\":\"outside\"},\"bgcolor\":\"rgb(237,237,237)\",\"caxis\":{\"gridcolor\":\"white\",\"linecolor\":\"white\",\"showgrid\":true,\"tickcolor\":\"rgb(51,51,51)\",\"ticks\":\"outside\"}},\"xaxis\":{\"automargin\":true,\"gridcolor\":\"white\",\"linecolor\":\"white\",\"showgrid\":true,\"tickcolor\":\"rgb(51,51,51)\",\"ticks\":\"outside\",\"title\":{\"standoff\":15},\"zerolinecolor\":\"white\"},\"yaxis\":{\"automargin\":true,\"gridcolor\":\"white\",\"linecolor\":\"white\",\"showgrid\":true,\"tickcolor\":\"rgb(51,51,51)\",\"ticks\":\"outside\",\"title\":{\"standoff\":15},\"zerolinecolor\":\"white\"}}},\"xaxis\":{\"anchor\":\"y\",\"domain\":[0.0,1.0],\"title\":{\"text\":\"Epochs\"}},\"yaxis\":{\"anchor\":\"x\",\"domain\":[0.0,1.0],\"title\":{\"text\":\"Training Accuracy\"}},\"legend\":{\"tracegroupgap\":0},\"margin\":{\"t\":60}},                        {\"responsive\": true}                    ).then(function(){\n",
              "                            \n",
              "var gd = document.getElementById('ebf6c8de-6483-4f30-9f16-7b7af5c4aaea');\n",
              "var x = new MutationObserver(function (mutations, observer) {{\n",
              "        var display = window.getComputedStyle(gd).display;\n",
              "        if (!display || display === 'none') {{\n",
              "            console.log([gd, 'removed!']);\n",
              "            Plotly.purge(gd);\n",
              "            observer.disconnect();\n",
              "        }}\n",
              "}});\n",
              "\n",
              "// Listen for the removal of the full notebook cells\n",
              "var notebookContainer = gd.closest('#notebook-container');\n",
              "if (notebookContainer) {{\n",
              "    x.observe(notebookContainer, {childList: true});\n",
              "}}\n",
              "\n",
              "// Listen for the clearing of the current output cell\n",
              "var outputEl = gd.closest('.output');\n",
              "if (outputEl) {{\n",
              "    x.observe(outputEl, {childList: true});\n",
              "}}\n",
              "\n",
              "                        })                };                            </script>        </div>\n",
              "</body>\n",
              "</html>"
            ]
          },
          "metadata": {}
        }
      ]
    },
    {
      "cell_type": "code",
      "source": [
        "fig_acc = px.line(VGG16_Metrics,x='Epochs',y='Training_Loss',template='ggplot2',labels={'Training_Loss':'Training Loss'})\n",
        "fig_acc.add_scatter(x=VGG16_Metrics['Epochs'],y=VGG16_Metrics['Val_loss'],mode='lines',name='Validation Loss')"
      ],
      "metadata": {
        "colab": {
          "base_uri": "https://localhost:8080/",
          "height": 542
        },
        "id": "dMYih02SozQQ",
        "outputId": "2e0fb280-1a79-4848-f84a-b7667f4263cd"
      },
      "execution_count": null,
      "outputs": [
        {
          "output_type": "display_data",
          "data": {
            "text/html": [
              "<html>\n",
              "<head><meta charset=\"utf-8\" /></head>\n",
              "<body>\n",
              "    <div>            <script src=\"https://cdnjs.cloudflare.com/ajax/libs/mathjax/2.7.5/MathJax.js?config=TeX-AMS-MML_SVG\"></script><script type=\"text/javascript\">if (window.MathJax) {MathJax.Hub.Config({SVG: {font: \"STIX-Web\"}});}</script>                <script type=\"text/javascript\">window.PlotlyConfig = {MathJaxConfig: 'local'};</script>\n",
              "        <script src=\"https://cdn.plot.ly/plotly-2.8.3.min.js\"></script>                <div id=\"d50264d5-7657-4847-a203-67b7efe92b0d\" class=\"plotly-graph-div\" style=\"height:525px; width:100%;\"></div>            <script type=\"text/javascript\">                                    window.PLOTLYENV=window.PLOTLYENV || {};                                    if (document.getElementById(\"d50264d5-7657-4847-a203-67b7efe92b0d\")) {                    Plotly.newPlot(                        \"d50264d5-7657-4847-a203-67b7efe92b0d\",                        [{\"hovertemplate\":\"Epochs=%{x}<br>Training Loss=%{y}<extra></extra>\",\"legendgroup\":\"\",\"line\":{\"color\":\"#F8766D\",\"dash\":\"solid\"},\"marker\":{\"symbol\":\"circle\"},\"mode\":\"lines\",\"name\":\"\",\"orientation\":\"v\",\"showlegend\":false,\"x\":[1,2,3,4,5,6,7,8,9,10,11,12,13,14,15,16,17,18,19,20,21,22,23,24,25,26,27,28,29,30,31,32,33,34,35,36,37,38,39,40,41,42,43,44,45,46,47,48,49,50],\"xaxis\":\"x\",\"y\":[2.556553602218628,1.3020732402801514,1.1572149991989136,1.0643229484558105,1.0075470209121704,0.959328830242157,0.9235885739326477,0.8856489658355713,0.8586324453353882,0.8476006984710693,0.8171811699867249,0.8019870519638062,0.781447172164917,0.7662925720214844,0.7608672380447388,0.7442565560340881,0.7282871603965759,0.7191470861434937,0.710038423538208,0.7044870853424072,0.69249427318573,0.6758466958999634,0.668150782585144,0.6586368083953857,0.6578616499900818,0.6469183564186096,0.6374260187149048,0.6397499442100525,0.6347841620445251,0.6220741271972656,0.6112361550331116,0.6105467081069946,0.6031622886657715,0.5966294407844543,0.5931551456451416,0.5903096795082092,0.5859809517860413,0.5800599455833435,0.5857937932014465,0.5756761431694031,0.5718380808830261,0.5672088861465454,0.561573326587677,0.5579942464828491,0.5553365349769592,0.5557265281677246,0.5556983947753906,0.5502828359603882,0.5504564642906189,0.5474936962127686],\"yaxis\":\"y\",\"type\":\"scatter\"},{\"mode\":\"lines\",\"name\":\"Validation Loss\",\"x\":[1,2,3,4,5,6,7,8,9,10,11,12,13,14,15,16,17,18,19,20,21,22,23,24,25,26,27,28,29,30,31,32,33,34,35,36,37,38,39,40,41,42,43,44,45,46,47,48,49,50],\"y\":[1.3449188470840454,1.189622163772583,1.2633713483810425,0.9738319516181946,0.9115764498710632,0.8711090683937073,0.8925741314888,0.8466989994049072,0.8426074385643005,0.8429530262947083,0.8072858452796936,0.8165470957756042,0.8012148141860962,0.78877854347229,0.8229398727416992,0.7769553065299988,0.762109100818634,0.7564316987991333,0.7741318345069885,0.7852588891983032,0.8069443106651306,0.7529797554016113,0.7447899580001831,0.7484707236289978,0.7496633529663086,0.7948534488677979,0.7942349314689636,0.7863682508468628,0.7461686730384827,0.7565348148345947,0.7436079978942871,0.7535664439201355,0.7374565005302429,0.7191898226737976,0.7232031226158142,0.7244338989257812,0.7430784702301025,0.7121893167495728,0.7440019249916077,0.7258185148239136,0.7086344957351685,0.7389867305755615,0.72705078125,0.756136953830719,0.7335230708122253,0.7127790451049805,0.7531184554100037,0.736086368560791,0.7445626854896545,0.7508610486984253],\"type\":\"scatter\"}],                        {\"template\":{\"data\":{\"barpolar\":[{\"marker\":{\"line\":{\"color\":\"rgb(237,237,237)\",\"width\":0.5},\"pattern\":{\"fillmode\":\"overlay\",\"size\":10,\"solidity\":0.2}},\"type\":\"barpolar\"}],\"bar\":[{\"error_x\":{\"color\":\"rgb(51,51,51)\"},\"error_y\":{\"color\":\"rgb(51,51,51)\"},\"marker\":{\"line\":{\"color\":\"rgb(237,237,237)\",\"width\":0.5},\"pattern\":{\"fillmode\":\"overlay\",\"size\":10,\"solidity\":0.2}},\"type\":\"bar\"}],\"carpet\":[{\"aaxis\":{\"endlinecolor\":\"rgb(51,51,51)\",\"gridcolor\":\"white\",\"linecolor\":\"white\",\"minorgridcolor\":\"white\",\"startlinecolor\":\"rgb(51,51,51)\"},\"baxis\":{\"endlinecolor\":\"rgb(51,51,51)\",\"gridcolor\":\"white\",\"linecolor\":\"white\",\"minorgridcolor\":\"white\",\"startlinecolor\":\"rgb(51,51,51)\"},\"type\":\"carpet\"}],\"choropleth\":[{\"colorbar\":{\"outlinewidth\":0,\"tickcolor\":\"rgb(237,237,237)\",\"ticklen\":6,\"ticks\":\"inside\"},\"type\":\"choropleth\"}],\"contourcarpet\":[{\"colorbar\":{\"outlinewidth\":0,\"tickcolor\":\"rgb(237,237,237)\",\"ticklen\":6,\"ticks\":\"inside\"},\"type\":\"contourcarpet\"}],\"contour\":[{\"colorbar\":{\"outlinewidth\":0,\"tickcolor\":\"rgb(237,237,237)\",\"ticklen\":6,\"ticks\":\"inside\"},\"colorscale\":[[0,\"rgb(20,44,66)\"],[1,\"rgb(90,179,244)\"]],\"type\":\"contour\"}],\"heatmapgl\":[{\"colorbar\":{\"outlinewidth\":0,\"tickcolor\":\"rgb(237,237,237)\",\"ticklen\":6,\"ticks\":\"inside\"},\"colorscale\":[[0,\"rgb(20,44,66)\"],[1,\"rgb(90,179,244)\"]],\"type\":\"heatmapgl\"}],\"heatmap\":[{\"colorbar\":{\"outlinewidth\":0,\"tickcolor\":\"rgb(237,237,237)\",\"ticklen\":6,\"ticks\":\"inside\"},\"colorscale\":[[0,\"rgb(20,44,66)\"],[1,\"rgb(90,179,244)\"]],\"type\":\"heatmap\"}],\"histogram2dcontour\":[{\"colorbar\":{\"outlinewidth\":0,\"tickcolor\":\"rgb(237,237,237)\",\"ticklen\":6,\"ticks\":\"inside\"},\"colorscale\":[[0,\"rgb(20,44,66)\"],[1,\"rgb(90,179,244)\"]],\"type\":\"histogram2dcontour\"}],\"histogram2d\":[{\"colorbar\":{\"outlinewidth\":0,\"tickcolor\":\"rgb(237,237,237)\",\"ticklen\":6,\"ticks\":\"inside\"},\"colorscale\":[[0,\"rgb(20,44,66)\"],[1,\"rgb(90,179,244)\"]],\"type\":\"histogram2d\"}],\"histogram\":[{\"marker\":{\"pattern\":{\"fillmode\":\"overlay\",\"size\":10,\"solidity\":0.2}},\"type\":\"histogram\"}],\"mesh3d\":[{\"colorbar\":{\"outlinewidth\":0,\"tickcolor\":\"rgb(237,237,237)\",\"ticklen\":6,\"ticks\":\"inside\"},\"type\":\"mesh3d\"}],\"parcoords\":[{\"line\":{\"colorbar\":{\"outlinewidth\":0,\"tickcolor\":\"rgb(237,237,237)\",\"ticklen\":6,\"ticks\":\"inside\"}},\"type\":\"parcoords\"}],\"pie\":[{\"automargin\":true,\"type\":\"pie\"}],\"scatter3d\":[{\"line\":{\"colorbar\":{\"outlinewidth\":0,\"tickcolor\":\"rgb(237,237,237)\",\"ticklen\":6,\"ticks\":\"inside\"}},\"marker\":{\"colorbar\":{\"outlinewidth\":0,\"tickcolor\":\"rgb(237,237,237)\",\"ticklen\":6,\"ticks\":\"inside\"}},\"type\":\"scatter3d\"}],\"scattercarpet\":[{\"marker\":{\"colorbar\":{\"outlinewidth\":0,\"tickcolor\":\"rgb(237,237,237)\",\"ticklen\":6,\"ticks\":\"inside\"}},\"type\":\"scattercarpet\"}],\"scattergeo\":[{\"marker\":{\"colorbar\":{\"outlinewidth\":0,\"tickcolor\":\"rgb(237,237,237)\",\"ticklen\":6,\"ticks\":\"inside\"}},\"type\":\"scattergeo\"}],\"scattergl\":[{\"marker\":{\"colorbar\":{\"outlinewidth\":0,\"tickcolor\":\"rgb(237,237,237)\",\"ticklen\":6,\"ticks\":\"inside\"}},\"type\":\"scattergl\"}],\"scattermapbox\":[{\"marker\":{\"colorbar\":{\"outlinewidth\":0,\"tickcolor\":\"rgb(237,237,237)\",\"ticklen\":6,\"ticks\":\"inside\"}},\"type\":\"scattermapbox\"}],\"scatterpolargl\":[{\"marker\":{\"colorbar\":{\"outlinewidth\":0,\"tickcolor\":\"rgb(237,237,237)\",\"ticklen\":6,\"ticks\":\"inside\"}},\"type\":\"scatterpolargl\"}],\"scatterpolar\":[{\"marker\":{\"colorbar\":{\"outlinewidth\":0,\"tickcolor\":\"rgb(237,237,237)\",\"ticklen\":6,\"ticks\":\"inside\"}},\"type\":\"scatterpolar\"}],\"scatter\":[{\"marker\":{\"colorbar\":{\"outlinewidth\":0,\"tickcolor\":\"rgb(237,237,237)\",\"ticklen\":6,\"ticks\":\"inside\"}},\"type\":\"scatter\"}],\"scatterternary\":[{\"marker\":{\"colorbar\":{\"outlinewidth\":0,\"tickcolor\":\"rgb(237,237,237)\",\"ticklen\":6,\"ticks\":\"inside\"}},\"type\":\"scatterternary\"}],\"surface\":[{\"colorbar\":{\"outlinewidth\":0,\"tickcolor\":\"rgb(237,237,237)\",\"ticklen\":6,\"ticks\":\"inside\"},\"colorscale\":[[0,\"rgb(20,44,66)\"],[1,\"rgb(90,179,244)\"]],\"type\":\"surface\"}],\"table\":[{\"cells\":{\"fill\":{\"color\":\"rgb(237,237,237)\"},\"line\":{\"color\":\"white\"}},\"header\":{\"fill\":{\"color\":\"rgb(217,217,217)\"},\"line\":{\"color\":\"white\"}},\"type\":\"table\"}]},\"layout\":{\"annotationdefaults\":{\"arrowhead\":0,\"arrowwidth\":1},\"autotypenumbers\":\"strict\",\"coloraxis\":{\"colorbar\":{\"outlinewidth\":0,\"tickcolor\":\"rgb(237,237,237)\",\"ticklen\":6,\"ticks\":\"inside\"}},\"colorscale\":{\"sequential\":[[0,\"rgb(20,44,66)\"],[1,\"rgb(90,179,244)\"]],\"sequentialminus\":[[0,\"rgb(20,44,66)\"],[1,\"rgb(90,179,244)\"]]},\"colorway\":[\"#F8766D\",\"#A3A500\",\"#00BF7D\",\"#00B0F6\",\"#E76BF3\"],\"font\":{\"color\":\"rgb(51,51,51)\"},\"geo\":{\"bgcolor\":\"white\",\"lakecolor\":\"white\",\"landcolor\":\"rgb(237,237,237)\",\"showlakes\":true,\"showland\":true,\"subunitcolor\":\"white\"},\"hoverlabel\":{\"align\":\"left\"},\"hovermode\":\"closest\",\"paper_bgcolor\":\"white\",\"plot_bgcolor\":\"rgb(237,237,237)\",\"polar\":{\"angularaxis\":{\"gridcolor\":\"white\",\"linecolor\":\"white\",\"showgrid\":true,\"tickcolor\":\"rgb(51,51,51)\",\"ticks\":\"outside\"},\"bgcolor\":\"rgb(237,237,237)\",\"radialaxis\":{\"gridcolor\":\"white\",\"linecolor\":\"white\",\"showgrid\":true,\"tickcolor\":\"rgb(51,51,51)\",\"ticks\":\"outside\"}},\"scene\":{\"xaxis\":{\"backgroundcolor\":\"rgb(237,237,237)\",\"gridcolor\":\"white\",\"gridwidth\":2,\"linecolor\":\"white\",\"showbackground\":true,\"showgrid\":true,\"tickcolor\":\"rgb(51,51,51)\",\"ticks\":\"outside\",\"zerolinecolor\":\"white\"},\"yaxis\":{\"backgroundcolor\":\"rgb(237,237,237)\",\"gridcolor\":\"white\",\"gridwidth\":2,\"linecolor\":\"white\",\"showbackground\":true,\"showgrid\":true,\"tickcolor\":\"rgb(51,51,51)\",\"ticks\":\"outside\",\"zerolinecolor\":\"white\"},\"zaxis\":{\"backgroundcolor\":\"rgb(237,237,237)\",\"gridcolor\":\"white\",\"gridwidth\":2,\"linecolor\":\"white\",\"showbackground\":true,\"showgrid\":true,\"tickcolor\":\"rgb(51,51,51)\",\"ticks\":\"outside\",\"zerolinecolor\":\"white\"}},\"shapedefaults\":{\"fillcolor\":\"black\",\"line\":{\"width\":0},\"opacity\":0.3},\"ternary\":{\"aaxis\":{\"gridcolor\":\"white\",\"linecolor\":\"white\",\"showgrid\":true,\"tickcolor\":\"rgb(51,51,51)\",\"ticks\":\"outside\"},\"baxis\":{\"gridcolor\":\"white\",\"linecolor\":\"white\",\"showgrid\":true,\"tickcolor\":\"rgb(51,51,51)\",\"ticks\":\"outside\"},\"bgcolor\":\"rgb(237,237,237)\",\"caxis\":{\"gridcolor\":\"white\",\"linecolor\":\"white\",\"showgrid\":true,\"tickcolor\":\"rgb(51,51,51)\",\"ticks\":\"outside\"}},\"xaxis\":{\"automargin\":true,\"gridcolor\":\"white\",\"linecolor\":\"white\",\"showgrid\":true,\"tickcolor\":\"rgb(51,51,51)\",\"ticks\":\"outside\",\"title\":{\"standoff\":15},\"zerolinecolor\":\"white\"},\"yaxis\":{\"automargin\":true,\"gridcolor\":\"white\",\"linecolor\":\"white\",\"showgrid\":true,\"tickcolor\":\"rgb(51,51,51)\",\"ticks\":\"outside\",\"title\":{\"standoff\":15},\"zerolinecolor\":\"white\"}}},\"xaxis\":{\"anchor\":\"y\",\"domain\":[0.0,1.0],\"title\":{\"text\":\"Epochs\"}},\"yaxis\":{\"anchor\":\"x\",\"domain\":[0.0,1.0],\"title\":{\"text\":\"Training Loss\"}},\"legend\":{\"tracegroupgap\":0},\"margin\":{\"t\":60}},                        {\"responsive\": true}                    ).then(function(){\n",
              "                            \n",
              "var gd = document.getElementById('d50264d5-7657-4847-a203-67b7efe92b0d');\n",
              "var x = new MutationObserver(function (mutations, observer) {{\n",
              "        var display = window.getComputedStyle(gd).display;\n",
              "        if (!display || display === 'none') {{\n",
              "            console.log([gd, 'removed!']);\n",
              "            Plotly.purge(gd);\n",
              "            observer.disconnect();\n",
              "        }}\n",
              "}});\n",
              "\n",
              "// Listen for the removal of the full notebook cells\n",
              "var notebookContainer = gd.closest('#notebook-container');\n",
              "if (notebookContainer) {{\n",
              "    x.observe(notebookContainer, {childList: true});\n",
              "}}\n",
              "\n",
              "// Listen for the clearing of the current output cell\n",
              "var outputEl = gd.closest('.output');\n",
              "if (outputEl) {{\n",
              "    x.observe(outputEl, {childList: true});\n",
              "}}\n",
              "\n",
              "                        })                };                            </script>        </div>\n",
              "</body>\n",
              "</html>"
            ]
          },
          "metadata": {}
        }
      ]
    }
  ]
}